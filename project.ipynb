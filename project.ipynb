{
 "cells": [
  {
   "cell_type": "code",
   "execution_count": 2,
   "metadata": {},
   "outputs": [],
   "source": [
    "import pandas as pd\n",
    "import numpy as np"
   ]
  },
  {
   "cell_type": "code",
   "execution_count": 3,
   "metadata": {},
   "outputs": [],
   "source": [
    "df=pd.read_csv(\"acquisitions.csv\")"
   ]
  },
  {
   "cell_type": "code",
   "execution_count": 4,
   "metadata": {
    "collapsed": true
   },
   "outputs": [
    {
     "data": {
      "text/html": [
       "<div>\n",
       "<style scoped>\n",
       "    .dataframe tbody tr th:only-of-type {\n",
       "        vertical-align: middle;\n",
       "    }\n",
       "\n",
       "    .dataframe tbody tr th {\n",
       "        vertical-align: top;\n",
       "    }\n",
       "\n",
       "    .dataframe thead th {\n",
       "        text-align: right;\n",
       "    }\n",
       "</style>\n",
       "<table border=\"1\" class=\"dataframe\">\n",
       "  <thead>\n",
       "    <tr style=\"text-align: right;\">\n",
       "      <th></th>\n",
       "      <th>AcquisitionID</th>\n",
       "      <th>AcquisitionMonth</th>\n",
       "      <th>AcquisitionMonthDate</th>\n",
       "      <th>AcquisitionYear</th>\n",
       "      <th>Company</th>\n",
       "      <th>Business</th>\n",
       "      <th>Country</th>\n",
       "      <th>Value (USD)</th>\n",
       "      <th>Derived products</th>\n",
       "      <th>ParentCompany</th>\n",
       "    </tr>\n",
       "  </thead>\n",
       "  <tbody>\n",
       "    <tr>\n",
       "      <th>0</th>\n",
       "      <td>ACQ99</td>\n",
       "      <td>November</td>\n",
       "      <td>11.0</td>\n",
       "      <td>2015</td>\n",
       "      <td>bebop</td>\n",
       "      <td>Cloud software</td>\n",
       "      <td>USA</td>\n",
       "      <td>380000000.0</td>\n",
       "      <td>Google Cloud Platform</td>\n",
       "      <td>Google</td>\n",
       "    </tr>\n",
       "    <tr>\n",
       "      <th>1</th>\n",
       "      <td>ACQ98</td>\n",
       "      <td>November</td>\n",
       "      <td>11.0</td>\n",
       "      <td>2015</td>\n",
       "      <td>Fly Labs</td>\n",
       "      <td>Video editing</td>\n",
       "      <td>USA</td>\n",
       "      <td>NaN</td>\n",
       "      <td>Google Photos</td>\n",
       "      <td>Google</td>\n",
       "    </tr>\n",
       "    <tr>\n",
       "      <th>2</th>\n",
       "      <td>ACQ97</td>\n",
       "      <td>December</td>\n",
       "      <td>8.0</td>\n",
       "      <td>2015</td>\n",
       "      <td>Clearleap</td>\n",
       "      <td>Cloud-based video management</td>\n",
       "      <td>USA</td>\n",
       "      <td>NaN</td>\n",
       "      <td>NaN</td>\n",
       "      <td>IBM</td>\n",
       "    </tr>\n",
       "    <tr>\n",
       "      <th>3</th>\n",
       "      <td>ACQ96</td>\n",
       "      <td>December</td>\n",
       "      <td>18.0</td>\n",
       "      <td>2015</td>\n",
       "      <td>Metanautix</td>\n",
       "      <td>Big Data Analytics</td>\n",
       "      <td>USA</td>\n",
       "      <td>NaN</td>\n",
       "      <td>NaN</td>\n",
       "      <td>Microsoft</td>\n",
       "    </tr>\n",
       "    <tr>\n",
       "      <th>4</th>\n",
       "      <td>ACQ95</td>\n",
       "      <td>December</td>\n",
       "      <td>21.0</td>\n",
       "      <td>2015</td>\n",
       "      <td>Talko, Inc.</td>\n",
       "      <td>Mobile communications</td>\n",
       "      <td>USA</td>\n",
       "      <td>NaN</td>\n",
       "      <td>NaN</td>\n",
       "      <td>Microsoft</td>\n",
       "    </tr>\n",
       "    <tr>\n",
       "      <th>5</th>\n",
       "      <td>ACQ94</td>\n",
       "      <td>January</td>\n",
       "      <td>7.0</td>\n",
       "      <td>2016</td>\n",
       "      <td>Emotient</td>\n",
       "      <td>Emotion recognition</td>\n",
       "      <td>USA</td>\n",
       "      <td>NaN</td>\n",
       "      <td>Face ID, Animoji[100]</td>\n",
       "      <td>Apple</td>\n",
       "    </tr>\n",
       "    <tr>\n",
       "      <th>6</th>\n",
       "      <td>ACQ93</td>\n",
       "      <td>January</td>\n",
       "      <td>15.0</td>\n",
       "      <td>2016</td>\n",
       "      <td>Iris Analytics</td>\n",
       "      <td>Real time transaction fraud detection</td>\n",
       "      <td>GER</td>\n",
       "      <td>NaN</td>\n",
       "      <td>NaN</td>\n",
       "      <td>IBM</td>\n",
       "    </tr>\n",
       "    <tr>\n",
       "      <th>7</th>\n",
       "      <td>ACQ92</td>\n",
       "      <td>January</td>\n",
       "      <td>19.0</td>\n",
       "      <td>2016</td>\n",
       "      <td>Teacher Gaming LLC</td>\n",
       "      <td>Education software</td>\n",
       "      <td>FIN</td>\n",
       "      <td>NaN</td>\n",
       "      <td>NaN</td>\n",
       "      <td>Microsoft</td>\n",
       "    </tr>\n",
       "    <tr>\n",
       "      <th>8</th>\n",
       "      <td>ACQ915</td>\n",
       "      <td>July</td>\n",
       "      <td>30.0</td>\n",
       "      <td>1987</td>\n",
       "      <td>Forethought, Inc.</td>\n",
       "      <td>Computer software</td>\n",
       "      <td>USA</td>\n",
       "      <td>14000000.0</td>\n",
       "      <td>NaN</td>\n",
       "      <td>Microsoft</td>\n",
       "    </tr>\n",
       "    <tr>\n",
       "      <th>9</th>\n",
       "      <td>ACQ914</td>\n",
       "      <td>March</td>\n",
       "      <td>2.0</td>\n",
       "      <td>1988</td>\n",
       "      <td>Network Innovations</td>\n",
       "      <td>Software</td>\n",
       "      <td>USA</td>\n",
       "      <td>NaN</td>\n",
       "      <td>NaN</td>\n",
       "      <td>Apple</td>\n",
       "    </tr>\n",
       "  </tbody>\n",
       "</table>\n",
       "</div>"
      ],
      "text/plain": [
       "  AcquisitionID AcquisitionMonth  AcquisitionMonthDate  AcquisitionYear  \\\n",
       "0         ACQ99         November                  11.0             2015   \n",
       "1         ACQ98         November                  11.0             2015   \n",
       "2         ACQ97         December                   8.0             2015   \n",
       "3         ACQ96         December                  18.0             2015   \n",
       "4         ACQ95         December                  21.0             2015   \n",
       "5         ACQ94          January                   7.0             2016   \n",
       "6         ACQ93          January                  15.0             2016   \n",
       "7         ACQ92          January                  19.0             2016   \n",
       "8        ACQ915             July                  30.0             1987   \n",
       "9        ACQ914            March                   2.0             1988   \n",
       "\n",
       "               Company                               Business Country  \\\n",
       "0                bebop                         Cloud software     USA   \n",
       "1             Fly Labs                          Video editing     USA   \n",
       "2            Clearleap           Cloud-based video management     USA   \n",
       "3           Metanautix                     Big Data Analytics     USA   \n",
       "4          Talko, Inc.                  Mobile communications     USA   \n",
       "5             Emotient                    Emotion recognition     USA   \n",
       "6       Iris Analytics  Real time transaction fraud detection     GER   \n",
       "7   Teacher Gaming LLC                     Education software     FIN   \n",
       "8    Forethought, Inc.                      Computer software     USA   \n",
       "9  Network Innovations                               Software     USA   \n",
       "\n",
       "   Value (USD)       Derived products ParentCompany  \n",
       "0  380000000.0  Google Cloud Platform        Google  \n",
       "1          NaN          Google Photos        Google  \n",
       "2          NaN                    NaN           IBM  \n",
       "3          NaN                    NaN     Microsoft  \n",
       "4          NaN                    NaN     Microsoft  \n",
       "5          NaN  Face ID, Animoji[100]         Apple  \n",
       "6          NaN                    NaN           IBM  \n",
       "7          NaN                    NaN     Microsoft  \n",
       "8   14000000.0                    NaN     Microsoft  \n",
       "9          NaN                    NaN         Apple  "
      ]
     },
     "execution_count": 4,
     "metadata": {},
     "output_type": "execute_result"
    }
   ],
   "source": [
    "df.head(10)"
   ]
  },
  {
   "cell_type": "code",
   "execution_count": 6,
   "metadata": {
    "collapsed": true
   },
   "outputs": [
    {
     "data": {
      "text/html": [
       "<div>\n",
       "<style scoped>\n",
       "    .dataframe tbody tr th:only-of-type {\n",
       "        vertical-align: middle;\n",
       "    }\n",
       "\n",
       "    .dataframe tbody tr th {\n",
       "        vertical-align: top;\n",
       "    }\n",
       "\n",
       "    .dataframe thead th {\n",
       "        text-align: right;\n",
       "    }\n",
       "</style>\n",
       "<table border=\"1\" class=\"dataframe\">\n",
       "  <thead>\n",
       "    <tr style=\"text-align: right;\">\n",
       "      <th></th>\n",
       "      <th>AcquisitionID</th>\n",
       "      <th>AcquisitionMonth</th>\n",
       "      <th>AcquisitionMonthDate</th>\n",
       "      <th>AcquisitionYear</th>\n",
       "      <th>Company</th>\n",
       "      <th>Business</th>\n",
       "      <th>Country</th>\n",
       "      <th>Value (USD)</th>\n",
       "      <th>Derived products</th>\n",
       "      <th>ParentCompany</th>\n",
       "    </tr>\n",
       "  </thead>\n",
       "  <tbody>\n",
       "    <tr>\n",
       "      <th>1</th>\n",
       "      <td>ACQ98</td>\n",
       "      <td>November</td>\n",
       "      <td>11.0</td>\n",
       "      <td>2015</td>\n",
       "      <td>Fly Labs</td>\n",
       "      <td>Video editing</td>\n",
       "      <td>USA</td>\n",
       "      <td>NaN</td>\n",
       "      <td>Google Photos</td>\n",
       "      <td>Google</td>\n",
       "    </tr>\n",
       "    <tr>\n",
       "      <th>2</th>\n",
       "      <td>ACQ97</td>\n",
       "      <td>December</td>\n",
       "      <td>8.0</td>\n",
       "      <td>2015</td>\n",
       "      <td>Clearleap</td>\n",
       "      <td>Cloud-based video management</td>\n",
       "      <td>USA</td>\n",
       "      <td>NaN</td>\n",
       "      <td>NaN</td>\n",
       "      <td>IBM</td>\n",
       "    </tr>\n",
       "    <tr>\n",
       "      <th>3</th>\n",
       "      <td>ACQ96</td>\n",
       "      <td>December</td>\n",
       "      <td>18.0</td>\n",
       "      <td>2015</td>\n",
       "      <td>Metanautix</td>\n",
       "      <td>Big Data Analytics</td>\n",
       "      <td>USA</td>\n",
       "      <td>NaN</td>\n",
       "      <td>NaN</td>\n",
       "      <td>Microsoft</td>\n",
       "    </tr>\n",
       "    <tr>\n",
       "      <th>4</th>\n",
       "      <td>ACQ95</td>\n",
       "      <td>December</td>\n",
       "      <td>21.0</td>\n",
       "      <td>2015</td>\n",
       "      <td>Talko, Inc.</td>\n",
       "      <td>Mobile communications</td>\n",
       "      <td>USA</td>\n",
       "      <td>NaN</td>\n",
       "      <td>NaN</td>\n",
       "      <td>Microsoft</td>\n",
       "    </tr>\n",
       "    <tr>\n",
       "      <th>5</th>\n",
       "      <td>ACQ94</td>\n",
       "      <td>January</td>\n",
       "      <td>7.0</td>\n",
       "      <td>2016</td>\n",
       "      <td>Emotient</td>\n",
       "      <td>Emotion recognition</td>\n",
       "      <td>USA</td>\n",
       "      <td>NaN</td>\n",
       "      <td>Face ID, Animoji[100]</td>\n",
       "      <td>Apple</td>\n",
       "    </tr>\n",
       "    <tr>\n",
       "      <th>6</th>\n",
       "      <td>ACQ93</td>\n",
       "      <td>January</td>\n",
       "      <td>15.0</td>\n",
       "      <td>2016</td>\n",
       "      <td>Iris Analytics</td>\n",
       "      <td>Real time transaction fraud detection</td>\n",
       "      <td>GER</td>\n",
       "      <td>NaN</td>\n",
       "      <td>NaN</td>\n",
       "      <td>IBM</td>\n",
       "    </tr>\n",
       "    <tr>\n",
       "      <th>7</th>\n",
       "      <td>ACQ92</td>\n",
       "      <td>January</td>\n",
       "      <td>19.0</td>\n",
       "      <td>2016</td>\n",
       "      <td>Teacher Gaming LLC</td>\n",
       "      <td>Education software</td>\n",
       "      <td>FIN</td>\n",
       "      <td>NaN</td>\n",
       "      <td>NaN</td>\n",
       "      <td>Microsoft</td>\n",
       "    </tr>\n",
       "    <tr>\n",
       "      <th>8</th>\n",
       "      <td>ACQ915</td>\n",
       "      <td>July</td>\n",
       "      <td>30.0</td>\n",
       "      <td>1987</td>\n",
       "      <td>Forethought, Inc.</td>\n",
       "      <td>Computer software</td>\n",
       "      <td>USA</td>\n",
       "      <td>1.400000e+07</td>\n",
       "      <td>NaN</td>\n",
       "      <td>Microsoft</td>\n",
       "    </tr>\n",
       "    <tr>\n",
       "      <th>9</th>\n",
       "      <td>ACQ914</td>\n",
       "      <td>March</td>\n",
       "      <td>2.0</td>\n",
       "      <td>1988</td>\n",
       "      <td>Network Innovations</td>\n",
       "      <td>Software</td>\n",
       "      <td>USA</td>\n",
       "      <td>NaN</td>\n",
       "      <td>NaN</td>\n",
       "      <td>Apple</td>\n",
       "    </tr>\n",
       "    <tr>\n",
       "      <th>10</th>\n",
       "      <td>ACQ913</td>\n",
       "      <td>June</td>\n",
       "      <td>7.0</td>\n",
       "      <td>1988</td>\n",
       "      <td>Orion Network Systems</td>\n",
       "      <td>Satellite communication systems</td>\n",
       "      <td>USA</td>\n",
       "      <td>NaN</td>\n",
       "      <td>NaN</td>\n",
       "      <td>Apple</td>\n",
       "    </tr>\n",
       "    <tr>\n",
       "      <th>11</th>\n",
       "      <td>ACQ912</td>\n",
       "      <td>June</td>\n",
       "      <td>27.0</td>\n",
       "      <td>1988</td>\n",
       "      <td>Styleware</td>\n",
       "      <td>Computer software</td>\n",
       "      <td>USA</td>\n",
       "      <td>NaN</td>\n",
       "      <td>AppleWorks GS</td>\n",
       "      <td>Apple</td>\n",
       "    </tr>\n",
       "    <tr>\n",
       "      <th>12</th>\n",
       "      <td>ACQ911</td>\n",
       "      <td>July</td>\n",
       "      <td>11.0</td>\n",
       "      <td>1988</td>\n",
       "      <td>Claris</td>\n",
       "      <td>Computer software</td>\n",
       "      <td>USA</td>\n",
       "      <td>NaN</td>\n",
       "      <td>FileMaker, iWork, iLife</td>\n",
       "      <td>Apple</td>\n",
       "    </tr>\n",
       "    <tr>\n",
       "      <th>13</th>\n",
       "      <td>ACQ910</td>\n",
       "      <td>January</td>\n",
       "      <td>3.0</td>\n",
       "      <td>1989</td>\n",
       "      <td>Coral Software</td>\n",
       "      <td>Computer software</td>\n",
       "      <td>USA</td>\n",
       "      <td>NaN</td>\n",
       "      <td>Macintosh Common Lisp</td>\n",
       "      <td>Apple</td>\n",
       "    </tr>\n",
       "    <tr>\n",
       "      <th>14</th>\n",
       "      <td>ACQ91</td>\n",
       "      <td>January</td>\n",
       "      <td>21.0</td>\n",
       "      <td>2016</td>\n",
       "      <td>Ustream</td>\n",
       "      <td>Streaming video</td>\n",
       "      <td>USA</td>\n",
       "      <td>NaN</td>\n",
       "      <td>NaN</td>\n",
       "      <td>IBM</td>\n",
       "    </tr>\n",
       "    <tr>\n",
       "      <th>15</th>\n",
       "      <td>ACQ909</td>\n",
       "      <td>March</td>\n",
       "      <td>31.0</td>\n",
       "      <td>1991</td>\n",
       "      <td>Consumers Software</td>\n",
       "      <td>Software</td>\n",
       "      <td>CAN</td>\n",
       "      <td>NaN</td>\n",
       "      <td>NaN</td>\n",
       "      <td>Microsoft</td>\n",
       "    </tr>\n",
       "    <tr>\n",
       "      <th>16</th>\n",
       "      <td>ACQ908</td>\n",
       "      <td>June</td>\n",
       "      <td>29.0</td>\n",
       "      <td>1992</td>\n",
       "      <td>Fox Software</td>\n",
       "      <td>PC database software</td>\n",
       "      <td>USA</td>\n",
       "      <td>NaN</td>\n",
       "      <td>NaN</td>\n",
       "      <td>Microsoft</td>\n",
       "    </tr>\n",
       "    <tr>\n",
       "      <th>17</th>\n",
       "      <td>ACQ907</td>\n",
       "      <td>February</td>\n",
       "      <td>28.0</td>\n",
       "      <td>1994</td>\n",
       "      <td>Softimage</td>\n",
       "      <td>Wholesale 3-D visualization software</td>\n",
       "      <td>CAN</td>\n",
       "      <td>NaN</td>\n",
       "      <td>NaN</td>\n",
       "      <td>Microsoft</td>\n",
       "    </tr>\n",
       "    <tr>\n",
       "      <th>18</th>\n",
       "      <td>ACQ906</td>\n",
       "      <td>September</td>\n",
       "      <td>27.0</td>\n",
       "      <td>1994</td>\n",
       "      <td>Altamira Software</td>\n",
       "      <td>Software</td>\n",
       "      <td>USA</td>\n",
       "      <td>NaN</td>\n",
       "      <td>NaN</td>\n",
       "      <td>Microsoft</td>\n",
       "    </tr>\n",
       "    <tr>\n",
       "      <th>19</th>\n",
       "      <td>ACQ905</td>\n",
       "      <td>November</td>\n",
       "      <td>1.0</td>\n",
       "      <td>1994</td>\n",
       "      <td>NextBase</td>\n",
       "      <td>Software</td>\n",
       "      <td>USA</td>\n",
       "      <td>NaN</td>\n",
       "      <td>NaN</td>\n",
       "      <td>Microsoft</td>\n",
       "    </tr>\n",
       "    <tr>\n",
       "      <th>20</th>\n",
       "      <td>ACQ904</td>\n",
       "      <td>November</td>\n",
       "      <td>15.0</td>\n",
       "      <td>1994</td>\n",
       "      <td>One Tree Software</td>\n",
       "      <td>Software</td>\n",
       "      <td>USA</td>\n",
       "      <td>NaN</td>\n",
       "      <td>NaN</td>\n",
       "      <td>Microsoft</td>\n",
       "    </tr>\n",
       "    <tr>\n",
       "      <th>21</th>\n",
       "      <td>ACQ903</td>\n",
       "      <td>February</td>\n",
       "      <td>23.0</td>\n",
       "      <td>1995</td>\n",
       "      <td>RenderMorphics</td>\n",
       "      <td>3D graphics hardware</td>\n",
       "      <td>USA</td>\n",
       "      <td>NaN</td>\n",
       "      <td>NaN</td>\n",
       "      <td>Microsoft</td>\n",
       "    </tr>\n",
       "    <tr>\n",
       "      <th>22</th>\n",
       "      <td>ACQ902</td>\n",
       "      <td>July</td>\n",
       "      <td>10.0</td>\n",
       "      <td>1995</td>\n",
       "      <td>Network Managers</td>\n",
       "      <td>Systems design</td>\n",
       "      <td>UK</td>\n",
       "      <td>NaN</td>\n",
       "      <td>NaN</td>\n",
       "      <td>Microsoft</td>\n",
       "    </tr>\n",
       "    <tr>\n",
       "      <th>23</th>\n",
       "      <td>ACQ901</td>\n",
       "      <td>October</td>\n",
       "      <td>17.0</td>\n",
       "      <td>1995</td>\n",
       "      <td>The Blue Ribbon SoundWorks</td>\n",
       "      <td>Software</td>\n",
       "      <td>USA</td>\n",
       "      <td>NaN</td>\n",
       "      <td>NaN</td>\n",
       "      <td>Microsoft</td>\n",
       "    </tr>\n",
       "    <tr>\n",
       "      <th>24</th>\n",
       "      <td>ACQ900</td>\n",
       "      <td>November</td>\n",
       "      <td>6.0</td>\n",
       "      <td>1995</td>\n",
       "      <td>Netwise</td>\n",
       "      <td>Computer software</td>\n",
       "      <td>USA</td>\n",
       "      <td>NaN</td>\n",
       "      <td>NaN</td>\n",
       "      <td>Microsoft</td>\n",
       "    </tr>\n",
       "    <tr>\n",
       "      <th>25</th>\n",
       "      <td>ACQ90</td>\n",
       "      <td>January</td>\n",
       "      <td>28.0</td>\n",
       "      <td>2016</td>\n",
       "      <td>LearnSprout</td>\n",
       "      <td>Education technology</td>\n",
       "      <td>USA</td>\n",
       "      <td>NaN</td>\n",
       "      <td>Classroom iPad App</td>\n",
       "      <td>Apple</td>\n",
       "    </tr>\n",
       "    <tr>\n",
       "      <th>26</th>\n",
       "      <td>ACQ9</td>\n",
       "      <td>October</td>\n",
       "      <td>16.0</td>\n",
       "      <td>2017</td>\n",
       "      <td>tbh</td>\n",
       "      <td>Anonymous social media app</td>\n",
       "      <td>USA</td>\n",
       "      <td>NaN</td>\n",
       "      <td>NaN</td>\n",
       "      <td>Facebook</td>\n",
       "    </tr>\n",
       "    <tr>\n",
       "      <th>27</th>\n",
       "      <td>ACQ899</td>\n",
       "      <td>December</td>\n",
       "      <td>12.0</td>\n",
       "      <td>1995</td>\n",
       "      <td>Bruce Artwick Organization</td>\n",
       "      <td>Programming</td>\n",
       "      <td>USA</td>\n",
       "      <td>NaN</td>\n",
       "      <td>NaN</td>\n",
       "      <td>Microsoft</td>\n",
       "    </tr>\n",
       "    <tr>\n",
       "      <th>28</th>\n",
       "      <td>ACQ898</td>\n",
       "      <td>January</td>\n",
       "      <td>16.0</td>\n",
       "      <td>1996</td>\n",
       "      <td>Vermeer Technologies</td>\n",
       "      <td>Software</td>\n",
       "      <td>USA</td>\n",
       "      <td>1.330000e+08</td>\n",
       "      <td>NaN</td>\n",
       "      <td>Microsoft</td>\n",
       "    </tr>\n",
       "    <tr>\n",
       "      <th>29</th>\n",
       "      <td>ACQ897</td>\n",
       "      <td>March</td>\n",
       "      <td>6.0</td>\n",
       "      <td>1996</td>\n",
       "      <td>VGA-Animation Software Div[note 1]</td>\n",
       "      <td>Software</td>\n",
       "      <td>GER</td>\n",
       "      <td>NaN</td>\n",
       "      <td>NaN</td>\n",
       "      <td>Microsoft</td>\n",
       "    </tr>\n",
       "    <tr>\n",
       "      <th>30</th>\n",
       "      <td>ACQ896</td>\n",
       "      <td>March</td>\n",
       "      <td>12.0</td>\n",
       "      <td>1996</td>\n",
       "      <td>Colusa Software</td>\n",
       "      <td>Software</td>\n",
       "      <td>USA</td>\n",
       "      <td>NaN</td>\n",
       "      <td>NaN</td>\n",
       "      <td>Microsoft</td>\n",
       "    </tr>\n",
       "    <tr>\n",
       "      <th>...</th>\n",
       "      <td>...</td>\n",
       "      <td>...</td>\n",
       "      <td>...</td>\n",
       "      <td>...</td>\n",
       "      <td>...</td>\n",
       "      <td>...</td>\n",
       "      <td>...</td>\n",
       "      <td>...</td>\n",
       "      <td>...</td>\n",
       "      <td>...</td>\n",
       "    </tr>\n",
       "    <tr>\n",
       "      <th>886</th>\n",
       "      <td>ACQ124</td>\n",
       "      <td>July</td>\n",
       "      <td>23.0</td>\n",
       "      <td>2015</td>\n",
       "      <td>Compose Inc.</td>\n",
       "      <td>Database as a Service</td>\n",
       "      <td>USA</td>\n",
       "      <td>NaN</td>\n",
       "      <td>NaN</td>\n",
       "      <td>IBM</td>\n",
       "    </tr>\n",
       "    <tr>\n",
       "      <th>887</th>\n",
       "      <td>ACQ123</td>\n",
       "      <td>July</td>\n",
       "      <td>31.0</td>\n",
       "      <td>2015</td>\n",
       "      <td>Polyvore</td>\n",
       "      <td>Clothing E-commerce website</td>\n",
       "      <td>USA</td>\n",
       "      <td>1.600000e+08</td>\n",
       "      <td>NaN</td>\n",
       "      <td>Yahoo</td>\n",
       "    </tr>\n",
       "    <tr>\n",
       "      <th>888</th>\n",
       "      <td>ACQ122</td>\n",
       "      <td>August</td>\n",
       "      <td>3.0</td>\n",
       "      <td>2015</td>\n",
       "      <td>Incent Games, LLC</td>\n",
       "      <td>Sales-gamification</td>\n",
       "      <td>USA</td>\n",
       "      <td>NaN</td>\n",
       "      <td>NaN</td>\n",
       "      <td>Microsoft</td>\n",
       "    </tr>\n",
       "    <tr>\n",
       "      <th>889</th>\n",
       "      <td>ACQ121</td>\n",
       "      <td>August</td>\n",
       "      <td>6.0</td>\n",
       "      <td>2015</td>\n",
       "      <td>Merge Healthcare Inc.</td>\n",
       "      <td>Healthcare imaging software</td>\n",
       "      <td>USA</td>\n",
       "      <td>1.000000e+09</td>\n",
       "      <td>NaN</td>\n",
       "      <td>IBM</td>\n",
       "    </tr>\n",
       "    <tr>\n",
       "      <th>890</th>\n",
       "      <td>ACQ120</td>\n",
       "      <td>September</td>\n",
       "      <td>NaN</td>\n",
       "      <td>2015</td>\n",
       "      <td>Perceptio</td>\n",
       "      <td>Machine learning, Image recognition</td>\n",
       "      <td>USA</td>\n",
       "      <td>NaN</td>\n",
       "      <td>Face ID, Animoji, Photos</td>\n",
       "      <td>Apple</td>\n",
       "    </tr>\n",
       "    <tr>\n",
       "      <th>891</th>\n",
       "      <td>ACQ12</td>\n",
       "      <td>October</td>\n",
       "      <td>5.0</td>\n",
       "      <td>2017</td>\n",
       "      <td>Vivant Digital</td>\n",
       "      <td>Innovation Consultancy</td>\n",
       "      <td>AUS</td>\n",
       "      <td>NaN</td>\n",
       "      <td>NaN</td>\n",
       "      <td>IBM</td>\n",
       "    </tr>\n",
       "    <tr>\n",
       "      <th>892</th>\n",
       "      <td>ACQ119</td>\n",
       "      <td>September</td>\n",
       "      <td>NaN</td>\n",
       "      <td>2015</td>\n",
       "      <td>VocalIQ</td>\n",
       "      <td>Speech technology</td>\n",
       "      <td>UK</td>\n",
       "      <td>NaN</td>\n",
       "      <td>Siri</td>\n",
       "      <td>Apple</td>\n",
       "    </tr>\n",
       "    <tr>\n",
       "      <th>893</th>\n",
       "      <td>ACQ118</td>\n",
       "      <td>September</td>\n",
       "      <td>NaN</td>\n",
       "      <td>2015</td>\n",
       "      <td>Mapsense</td>\n",
       "      <td>Mapping visualization and data collection</td>\n",
       "      <td>USA</td>\n",
       "      <td>NaN</td>\n",
       "      <td>Apple Maps</td>\n",
       "      <td>Apple</td>\n",
       "    </tr>\n",
       "    <tr>\n",
       "      <th>894</th>\n",
       "      <td>ACQ117</td>\n",
       "      <td>September</td>\n",
       "      <td>3.0</td>\n",
       "      <td>2015</td>\n",
       "      <td>VoloMetrix, Inc.</td>\n",
       "      <td>Organisational analytics</td>\n",
       "      <td>USA</td>\n",
       "      <td>NaN</td>\n",
       "      <td>NaN</td>\n",
       "      <td>Microsoft</td>\n",
       "    </tr>\n",
       "    <tr>\n",
       "      <th>895</th>\n",
       "      <td>ACQ116</td>\n",
       "      <td>September</td>\n",
       "      <td>10.0</td>\n",
       "      <td>2015</td>\n",
       "      <td>StrongLoop Inc.</td>\n",
       "      <td>Mobile API capabilities</td>\n",
       "      <td>USA</td>\n",
       "      <td>NaN</td>\n",
       "      <td>NaN</td>\n",
       "      <td>IBM</td>\n",
       "    </tr>\n",
       "    <tr>\n",
       "      <th>896</th>\n",
       "      <td>ACQ115</td>\n",
       "      <td>September</td>\n",
       "      <td>11.0</td>\n",
       "      <td>2015</td>\n",
       "      <td>Double Labs, Inc.</td>\n",
       "      <td>Mobile lock screen software</td>\n",
       "      <td>USA</td>\n",
       "      <td>NaN</td>\n",
       "      <td>NaN</td>\n",
       "      <td>Microsoft</td>\n",
       "    </tr>\n",
       "    <tr>\n",
       "      <th>897</th>\n",
       "      <td>ACQ114</td>\n",
       "      <td>September</td>\n",
       "      <td>21.0</td>\n",
       "      <td>2015</td>\n",
       "      <td>Oyster</td>\n",
       "      <td>E-book subscriptions</td>\n",
       "      <td>USA</td>\n",
       "      <td>NaN</td>\n",
       "      <td>Google Play Books</td>\n",
       "      <td>Google</td>\n",
       "    </tr>\n",
       "    <tr>\n",
       "      <th>898</th>\n",
       "      <td>ACQ113</td>\n",
       "      <td>September</td>\n",
       "      <td>28.0</td>\n",
       "      <td>2015</td>\n",
       "      <td>Adxstudio Inc.</td>\n",
       "      <td>Web portal and application lifecycle managemen...</td>\n",
       "      <td>CAN</td>\n",
       "      <td>NaN</td>\n",
       "      <td>NaN</td>\n",
       "      <td>Microsoft</td>\n",
       "    </tr>\n",
       "    <tr>\n",
       "      <th>899</th>\n",
       "      <td>ACQ112</td>\n",
       "      <td>September</td>\n",
       "      <td>28.0</td>\n",
       "      <td>2015</td>\n",
       "      <td>Meteorix LLC</td>\n",
       "      <td>Consulting services for Workday applications</td>\n",
       "      <td>USA</td>\n",
       "      <td>NaN</td>\n",
       "      <td>NaN</td>\n",
       "      <td>IBM</td>\n",
       "    </tr>\n",
       "    <tr>\n",
       "      <th>900</th>\n",
       "      <td>ACQ111</td>\n",
       "      <td>September</td>\n",
       "      <td>30.0</td>\n",
       "      <td>2015</td>\n",
       "      <td>Jibe Mobile</td>\n",
       "      <td>Rich Communication Services</td>\n",
       "      <td>USA</td>\n",
       "      <td>NaN</td>\n",
       "      <td>Android</td>\n",
       "      <td>Google</td>\n",
       "    </tr>\n",
       "    <tr>\n",
       "      <th>901</th>\n",
       "      <td>ACQ110</td>\n",
       "      <td>October</td>\n",
       "      <td>2.0</td>\n",
       "      <td>2015</td>\n",
       "      <td>Telekinesys Research Ltd.</td>\n",
       "      <td>Game technology vendor</td>\n",
       "      <td>IRL</td>\n",
       "      <td>NaN</td>\n",
       "      <td>NaN</td>\n",
       "      <td>Microsoft</td>\n",
       "    </tr>\n",
       "    <tr>\n",
       "      <th>902</th>\n",
       "      <td>ACQ11</td>\n",
       "      <td>October</td>\n",
       "      <td>9.0</td>\n",
       "      <td>2017</td>\n",
       "      <td>Relay Media</td>\n",
       "      <td>AMP converter</td>\n",
       "      <td>USA</td>\n",
       "      <td>NaN</td>\n",
       "      <td>Accelerated Mobile Pages</td>\n",
       "      <td>Google</td>\n",
       "    </tr>\n",
       "    <tr>\n",
       "      <th>903</th>\n",
       "      <td>ACQ109</td>\n",
       "      <td>October</td>\n",
       "      <td>3.0</td>\n",
       "      <td>2015</td>\n",
       "      <td>Endaga</td>\n",
       "      <td>Rural communications</td>\n",
       "      <td>USA</td>\n",
       "      <td>NaN</td>\n",
       "      <td>NaN</td>\n",
       "      <td>Facebook</td>\n",
       "    </tr>\n",
       "    <tr>\n",
       "      <th>904</th>\n",
       "      <td>ACQ108</td>\n",
       "      <td>October</td>\n",
       "      <td>17.0</td>\n",
       "      <td>2015</td>\n",
       "      <td>Digisfera</td>\n",
       "      <td>360-degree photography</td>\n",
       "      <td>POR</td>\n",
       "      <td>NaN</td>\n",
       "      <td>Street View</td>\n",
       "      <td>Google</td>\n",
       "    </tr>\n",
       "    <tr>\n",
       "      <th>905</th>\n",
       "      <td>ACQ107</td>\n",
       "      <td>October</td>\n",
       "      <td>21.0</td>\n",
       "      <td>2015</td>\n",
       "      <td>ZeroPush</td>\n",
       "      <td>Push Notification Services</td>\n",
       "      <td>USA</td>\n",
       "      <td>NaN</td>\n",
       "      <td>NaN</td>\n",
       "      <td>Twitter</td>\n",
       "    </tr>\n",
       "    <tr>\n",
       "      <th>906</th>\n",
       "      <td>ACQ106</td>\n",
       "      <td>October</td>\n",
       "      <td>21.0</td>\n",
       "      <td>2015</td>\n",
       "      <td>Fastlane</td>\n",
       "      <td>Deployment Services</td>\n",
       "      <td>NaN</td>\n",
       "      <td>NaN</td>\n",
       "      <td>NaN</td>\n",
       "      <td>Twitter</td>\n",
       "    </tr>\n",
       "    <tr>\n",
       "      <th>907</th>\n",
       "      <td>ACQ105</td>\n",
       "      <td>October</td>\n",
       "      <td>28.0</td>\n",
       "      <td>2015</td>\n",
       "      <td>The Weather Company digital assets</td>\n",
       "      <td>Weather data sources and analytics, related on...</td>\n",
       "      <td>USA</td>\n",
       "      <td>NaN</td>\n",
       "      <td>NaN</td>\n",
       "      <td>IBM</td>\n",
       "    </tr>\n",
       "    <tr>\n",
       "      <th>908</th>\n",
       "      <td>ACQ104</td>\n",
       "      <td>November</td>\n",
       "      <td>NaN</td>\n",
       "      <td>2015</td>\n",
       "      <td>Faceshift</td>\n",
       "      <td>Realtime Motion Capture</td>\n",
       "      <td>SWI</td>\n",
       "      <td>NaN</td>\n",
       "      <td>Animoji</td>\n",
       "      <td>Apple</td>\n",
       "    </tr>\n",
       "    <tr>\n",
       "      <th>909</th>\n",
       "      <td>ACQ103</td>\n",
       "      <td>November</td>\n",
       "      <td>3.0</td>\n",
       "      <td>2015</td>\n",
       "      <td>Gravitant, Inc</td>\n",
       "      <td>Cloud brokerage software and cloud management</td>\n",
       "      <td>USA</td>\n",
       "      <td>NaN</td>\n",
       "      <td>NaN</td>\n",
       "      <td>IBM</td>\n",
       "    </tr>\n",
       "    <tr>\n",
       "      <th>910</th>\n",
       "      <td>ACQ102</td>\n",
       "      <td>November</td>\n",
       "      <td>5.0</td>\n",
       "      <td>2015</td>\n",
       "      <td>Mobile Data Labs, Inc.</td>\n",
       "      <td>MileIQ, a mileage tracking application</td>\n",
       "      <td>USA</td>\n",
       "      <td>NaN</td>\n",
       "      <td>NaN</td>\n",
       "      <td>Microsoft</td>\n",
       "    </tr>\n",
       "    <tr>\n",
       "      <th>911</th>\n",
       "      <td>ACQ101</td>\n",
       "      <td>November</td>\n",
       "      <td>6.0</td>\n",
       "      <td>2015</td>\n",
       "      <td>Cleversafe</td>\n",
       "      <td>Object-based storage software</td>\n",
       "      <td>USA</td>\n",
       "      <td>1.309000e+09</td>\n",
       "      <td>NaN</td>\n",
       "      <td>IBM</td>\n",
       "    </tr>\n",
       "    <tr>\n",
       "      <th>912</th>\n",
       "      <td>ACQ100</td>\n",
       "      <td>November</td>\n",
       "      <td>9.0</td>\n",
       "      <td>2015</td>\n",
       "      <td>Secure Islands Technologies Ltd.</td>\n",
       "      <td>Data protection</td>\n",
       "      <td>ISR</td>\n",
       "      <td>NaN</td>\n",
       "      <td>NaN</td>\n",
       "      <td>Microsoft</td>\n",
       "    </tr>\n",
       "    <tr>\n",
       "      <th>913</th>\n",
       "      <td>ACQ10</td>\n",
       "      <td>October</td>\n",
       "      <td>11.0</td>\n",
       "      <td>2017</td>\n",
       "      <td>60db</td>\n",
       "      <td>Podcasts</td>\n",
       "      <td>USA</td>\n",
       "      <td>NaN</td>\n",
       "      <td>Google Play Music</td>\n",
       "      <td>Google</td>\n",
       "    </tr>\n",
       "    <tr>\n",
       "      <th>914</th>\n",
       "      <td>ACQ1</td>\n",
       "      <td>May</td>\n",
       "      <td>18.0</td>\n",
       "      <td>2018</td>\n",
       "      <td>Semantic Machines</td>\n",
       "      <td>Conversational AI</td>\n",
       "      <td>USA</td>\n",
       "      <td>NaN</td>\n",
       "      <td>NaN</td>\n",
       "      <td>Microsoft</td>\n",
       "    </tr>\n",
       "    <tr>\n",
       "      <th>915</th>\n",
       "      <td>AcQ916</td>\n",
       "      <td>June</td>\n",
       "      <td>4.0</td>\n",
       "      <td>2018</td>\n",
       "      <td>Github</td>\n",
       "      <td>Version Control Hosting</td>\n",
       "      <td>USA</td>\n",
       "      <td>7.500000e+09</td>\n",
       "      <td>NaN</td>\n",
       "      <td>Microsoft</td>\n",
       "    </tr>\n",
       "  </tbody>\n",
       "</table>\n",
       "<p>802 rows × 10 columns</p>\n",
       "</div>"
      ],
      "text/plain": [
       "    AcquisitionID AcquisitionMonth  AcquisitionMonthDate  AcquisitionYear  \\\n",
       "1           ACQ98         November                  11.0             2015   \n",
       "2           ACQ97         December                   8.0             2015   \n",
       "3           ACQ96         December                  18.0             2015   \n",
       "4           ACQ95         December                  21.0             2015   \n",
       "5           ACQ94          January                   7.0             2016   \n",
       "6           ACQ93          January                  15.0             2016   \n",
       "7           ACQ92          January                  19.0             2016   \n",
       "8          ACQ915             July                  30.0             1987   \n",
       "9          ACQ914            March                   2.0             1988   \n",
       "10         ACQ913             June                   7.0             1988   \n",
       "11         ACQ912             June                  27.0             1988   \n",
       "12         ACQ911             July                  11.0             1988   \n",
       "13         ACQ910          January                   3.0             1989   \n",
       "14          ACQ91          January                  21.0             2016   \n",
       "15         ACQ909            March                  31.0             1991   \n",
       "16         ACQ908             June                  29.0             1992   \n",
       "17         ACQ907         February                  28.0             1994   \n",
       "18         ACQ906        September                  27.0             1994   \n",
       "19         ACQ905         November                   1.0             1994   \n",
       "20         ACQ904         November                  15.0             1994   \n",
       "21         ACQ903         February                  23.0             1995   \n",
       "22         ACQ902             July                  10.0             1995   \n",
       "23         ACQ901          October                  17.0             1995   \n",
       "24         ACQ900         November                   6.0             1995   \n",
       "25          ACQ90          January                  28.0             2016   \n",
       "26           ACQ9          October                  16.0             2017   \n",
       "27         ACQ899         December                  12.0             1995   \n",
       "28         ACQ898          January                  16.0             1996   \n",
       "29         ACQ897            March                   6.0             1996   \n",
       "30         ACQ896            March                  12.0             1996   \n",
       "..            ...              ...                   ...              ...   \n",
       "886        ACQ124             July                  23.0             2015   \n",
       "887        ACQ123             July                  31.0             2015   \n",
       "888        ACQ122           August                   3.0             2015   \n",
       "889        ACQ121           August                   6.0             2015   \n",
       "890        ACQ120        September                   NaN             2015   \n",
       "891         ACQ12          October                   5.0             2017   \n",
       "892        ACQ119        September                   NaN             2015   \n",
       "893        ACQ118        September                   NaN             2015   \n",
       "894        ACQ117        September                   3.0             2015   \n",
       "895        ACQ116        September                  10.0             2015   \n",
       "896        ACQ115        September                  11.0             2015   \n",
       "897        ACQ114        September                  21.0             2015   \n",
       "898        ACQ113        September                  28.0             2015   \n",
       "899        ACQ112        September                  28.0             2015   \n",
       "900        ACQ111        September                  30.0             2015   \n",
       "901        ACQ110          October                   2.0             2015   \n",
       "902         ACQ11          October                   9.0             2017   \n",
       "903        ACQ109          October                   3.0             2015   \n",
       "904        ACQ108          October                  17.0             2015   \n",
       "905        ACQ107          October                  21.0             2015   \n",
       "906        ACQ106          October                  21.0             2015   \n",
       "907        ACQ105          October                  28.0             2015   \n",
       "908        ACQ104         November                   NaN             2015   \n",
       "909        ACQ103         November                   3.0             2015   \n",
       "910        ACQ102         November                   5.0             2015   \n",
       "911        ACQ101         November                   6.0             2015   \n",
       "912        ACQ100         November                   9.0             2015   \n",
       "913         ACQ10          October                  11.0             2017   \n",
       "914          ACQ1              May                  18.0             2018   \n",
       "915        AcQ916             June                   4.0             2018   \n",
       "\n",
       "                                Company  \\\n",
       "1                              Fly Labs   \n",
       "2                             Clearleap   \n",
       "3                            Metanautix   \n",
       "4                           Talko, Inc.   \n",
       "5                              Emotient   \n",
       "6                        Iris Analytics   \n",
       "7                    Teacher Gaming LLC   \n",
       "8                     Forethought, Inc.   \n",
       "9                   Network Innovations   \n",
       "10                Orion Network Systems   \n",
       "11                            Styleware   \n",
       "12                               Claris   \n",
       "13                       Coral Software   \n",
       "14                              Ustream   \n",
       "15                   Consumers Software   \n",
       "16                         Fox Software   \n",
       "17                            Softimage   \n",
       "18                    Altamira Software   \n",
       "19                             NextBase   \n",
       "20                    One Tree Software   \n",
       "21                       RenderMorphics   \n",
       "22                     Network Managers   \n",
       "23           The Blue Ribbon SoundWorks   \n",
       "24                              Netwise   \n",
       "25                          LearnSprout   \n",
       "26                                  tbh   \n",
       "27           Bruce Artwick Organization   \n",
       "28                 Vermeer Technologies   \n",
       "29   VGA-Animation Software Div[note 1]   \n",
       "30                      Colusa Software   \n",
       "..                                  ...   \n",
       "886                        Compose Inc.   \n",
       "887                            Polyvore   \n",
       "888                   Incent Games, LLC   \n",
       "889               Merge Healthcare Inc.   \n",
       "890                           Perceptio   \n",
       "891                      Vivant Digital   \n",
       "892                             VocalIQ   \n",
       "893                            Mapsense   \n",
       "894                    VoloMetrix, Inc.   \n",
       "895                     StrongLoop Inc.   \n",
       "896                   Double Labs, Inc.   \n",
       "897                              Oyster   \n",
       "898                      Adxstudio Inc.   \n",
       "899                        Meteorix LLC   \n",
       "900                         Jibe Mobile   \n",
       "901           Telekinesys Research Ltd.   \n",
       "902                         Relay Media   \n",
       "903                              Endaga   \n",
       "904                           Digisfera   \n",
       "905                            ZeroPush   \n",
       "906                            Fastlane   \n",
       "907  The Weather Company digital assets   \n",
       "908                           Faceshift   \n",
       "909                      Gravitant, Inc   \n",
       "910              Mobile Data Labs, Inc.   \n",
       "911                          Cleversafe   \n",
       "912    Secure Islands Technologies Ltd.   \n",
       "913                                60db   \n",
       "914                   Semantic Machines   \n",
       "915                              Github   \n",
       "\n",
       "                                              Business Country   Value (USD)  \\\n",
       "1                                        Video editing     USA           NaN   \n",
       "2                         Cloud-based video management     USA           NaN   \n",
       "3                                   Big Data Analytics     USA           NaN   \n",
       "4                                Mobile communications     USA           NaN   \n",
       "5                                  Emotion recognition     USA           NaN   \n",
       "6                Real time transaction fraud detection     GER           NaN   \n",
       "7                                   Education software     FIN           NaN   \n",
       "8                                    Computer software     USA  1.400000e+07   \n",
       "9                                             Software     USA           NaN   \n",
       "10                     Satellite communication systems     USA           NaN   \n",
       "11                                   Computer software     USA           NaN   \n",
       "12                                   Computer software     USA           NaN   \n",
       "13                                   Computer software     USA           NaN   \n",
       "14                                     Streaming video     USA           NaN   \n",
       "15                                            Software     CAN           NaN   \n",
       "16                                PC database software     USA           NaN   \n",
       "17                Wholesale 3-D visualization software     CAN           NaN   \n",
       "18                                            Software     USA           NaN   \n",
       "19                                            Software     USA           NaN   \n",
       "20                                            Software     USA           NaN   \n",
       "21                                3D graphics hardware     USA           NaN   \n",
       "22                                      Systems design      UK           NaN   \n",
       "23                                            Software     USA           NaN   \n",
       "24                                   Computer software     USA           NaN   \n",
       "25                                Education technology     USA           NaN   \n",
       "26                          Anonymous social media app     USA           NaN   \n",
       "27                                         Programming     USA           NaN   \n",
       "28                                            Software     USA  1.330000e+08   \n",
       "29                                            Software     GER           NaN   \n",
       "30                                            Software     USA           NaN   \n",
       "..                                                 ...     ...           ...   \n",
       "886                              Database as a Service     USA           NaN   \n",
       "887                        Clothing E-commerce website     USA  1.600000e+08   \n",
       "888                                 Sales-gamification     USA           NaN   \n",
       "889                        Healthcare imaging software     USA  1.000000e+09   \n",
       "890                Machine learning, Image recognition     USA           NaN   \n",
       "891                             Innovation Consultancy     AUS           NaN   \n",
       "892                                  Speech technology      UK           NaN   \n",
       "893          Mapping visualization and data collection     USA           NaN   \n",
       "894                           Organisational analytics     USA           NaN   \n",
       "895                            Mobile API capabilities     USA           NaN   \n",
       "896                        Mobile lock screen software     USA           NaN   \n",
       "897                               E-book subscriptions     USA           NaN   \n",
       "898  Web portal and application lifecycle managemen...     CAN           NaN   \n",
       "899       Consulting services for Workday applications     USA           NaN   \n",
       "900                        Rich Communication Services     USA           NaN   \n",
       "901                             Game technology vendor     IRL           NaN   \n",
       "902                                      AMP converter     USA           NaN   \n",
       "903                               Rural communications     USA           NaN   \n",
       "904                             360-degree photography     POR           NaN   \n",
       "905                         Push Notification Services     USA           NaN   \n",
       "906                                Deployment Services     NaN           NaN   \n",
       "907  Weather data sources and analytics, related on...     USA           NaN   \n",
       "908                            Realtime Motion Capture     SWI           NaN   \n",
       "909      Cloud brokerage software and cloud management     USA           NaN   \n",
       "910             MileIQ, a mileage tracking application     USA           NaN   \n",
       "911                      Object-based storage software     USA  1.309000e+09   \n",
       "912                                    Data protection     ISR           NaN   \n",
       "913                                           Podcasts     USA           NaN   \n",
       "914                                  Conversational AI     USA           NaN   \n",
       "915                            Version Control Hosting     USA  7.500000e+09   \n",
       "\n",
       "             Derived products ParentCompany  \n",
       "1               Google Photos        Google  \n",
       "2                         NaN           IBM  \n",
       "3                         NaN     Microsoft  \n",
       "4                         NaN     Microsoft  \n",
       "5       Face ID, Animoji[100]         Apple  \n",
       "6                         NaN           IBM  \n",
       "7                         NaN     Microsoft  \n",
       "8                         NaN     Microsoft  \n",
       "9                         NaN         Apple  \n",
       "10                        NaN         Apple  \n",
       "11              AppleWorks GS         Apple  \n",
       "12    FileMaker, iWork, iLife         Apple  \n",
       "13      Macintosh Common Lisp         Apple  \n",
       "14                        NaN           IBM  \n",
       "15                        NaN     Microsoft  \n",
       "16                        NaN     Microsoft  \n",
       "17                        NaN     Microsoft  \n",
       "18                        NaN     Microsoft  \n",
       "19                        NaN     Microsoft  \n",
       "20                        NaN     Microsoft  \n",
       "21                        NaN     Microsoft  \n",
       "22                        NaN     Microsoft  \n",
       "23                        NaN     Microsoft  \n",
       "24                        NaN     Microsoft  \n",
       "25         Classroom iPad App         Apple  \n",
       "26                        NaN      Facebook  \n",
       "27                        NaN     Microsoft  \n",
       "28                        NaN     Microsoft  \n",
       "29                        NaN     Microsoft  \n",
       "30                        NaN     Microsoft  \n",
       "..                        ...           ...  \n",
       "886                       NaN           IBM  \n",
       "887                       NaN         Yahoo  \n",
       "888                       NaN     Microsoft  \n",
       "889                       NaN           IBM  \n",
       "890  Face ID, Animoji, Photos         Apple  \n",
       "891                       NaN           IBM  \n",
       "892                      Siri         Apple  \n",
       "893                Apple Maps         Apple  \n",
       "894                       NaN     Microsoft  \n",
       "895                       NaN           IBM  \n",
       "896                       NaN     Microsoft  \n",
       "897         Google Play Books        Google  \n",
       "898                       NaN     Microsoft  \n",
       "899                       NaN           IBM  \n",
       "900                   Android        Google  \n",
       "901                       NaN     Microsoft  \n",
       "902  Accelerated Mobile Pages        Google  \n",
       "903                       NaN      Facebook  \n",
       "904               Street View        Google  \n",
       "905                       NaN       Twitter  \n",
       "906                       NaN       Twitter  \n",
       "907                       NaN           IBM  \n",
       "908                   Animoji         Apple  \n",
       "909                       NaN           IBM  \n",
       "910                       NaN     Microsoft  \n",
       "911                       NaN           IBM  \n",
       "912                       NaN     Microsoft  \n",
       "913         Google Play Music        Google  \n",
       "914                       NaN     Microsoft  \n",
       "915                       NaN     Microsoft  \n",
       "\n",
       "[802 rows x 10 columns]"
      ]
     },
     "execution_count": 6,
     "metadata": {},
     "output_type": "execute_result"
    }
   ],
   "source": [
    "df[df.isnull().any(axis=1)]"
   ]
  },
  {
   "cell_type": "code",
   "execution_count": 7,
   "metadata": {},
   "outputs": [
    {
     "data": {
      "text/plain": [
       "AcquisitionID             0\n",
       "AcquisitionMonth          6\n",
       "AcquisitionMonthDate     33\n",
       "AcquisitionYear           0\n",
       "Company                   0\n",
       "Business                  0\n",
       "Country                  46\n",
       "Value (USD)             671\n",
       "Derived products        515\n",
       "ParentCompany             0\n",
       "dtype: int64"
      ]
     },
     "execution_count": 7,
     "metadata": {},
     "output_type": "execute_result"
    }
   ],
   "source": [
    "df.isnull().sum()"
   ]
  },
  {
   "cell_type": "code",
   "execution_count": 8,
   "metadata": {},
   "outputs": [],
   "source": [
    "df['AcquisitionMonthDate'] = df['AcquisitionMonthDate'].fillna((df['AcquisitionMonthDate'].mean()))"
   ]
  },
  {
   "cell_type": "code",
   "execution_count": 9,
   "metadata": {},
   "outputs": [],
   "source": [
    "df['AcquisitionYear'] = df['AcquisitionYear'].fillna((df['AcquisitionYear'].mean()))"
   ]
  },
  {
   "cell_type": "code",
   "execution_count": 10,
   "metadata": {},
   "outputs": [],
   "source": [
    "df['Value (USD)'] = df['Value (USD)'].fillna((df['Value (USD)'].mean()))"
   ]
  },
  {
   "cell_type": "code",
   "execution_count": 11,
   "metadata": {},
   "outputs": [
    {
     "data": {
      "text/html": [
       "<div>\n",
       "<style scoped>\n",
       "    .dataframe tbody tr th:only-of-type {\n",
       "        vertical-align: middle;\n",
       "    }\n",
       "\n",
       "    .dataframe tbody tr th {\n",
       "        vertical-align: top;\n",
       "    }\n",
       "\n",
       "    .dataframe thead th {\n",
       "        text-align: right;\n",
       "    }\n",
       "</style>\n",
       "<table border=\"1\" class=\"dataframe\">\n",
       "  <thead>\n",
       "    <tr style=\"text-align: right;\">\n",
       "      <th></th>\n",
       "      <th>AcquisitionID</th>\n",
       "      <th>AcquisitionMonth</th>\n",
       "      <th>AcquisitionMonthDate</th>\n",
       "      <th>AcquisitionYear</th>\n",
       "      <th>Company</th>\n",
       "      <th>Business</th>\n",
       "      <th>Country</th>\n",
       "      <th>Value (USD)</th>\n",
       "      <th>Derived products</th>\n",
       "      <th>ParentCompany</th>\n",
       "    </tr>\n",
       "  </thead>\n",
       "  <tbody>\n",
       "    <tr>\n",
       "      <th>0</th>\n",
       "      <td>ACQ99</td>\n",
       "      <td>November</td>\n",
       "      <td>11.0</td>\n",
       "      <td>2015</td>\n",
       "      <td>bebop</td>\n",
       "      <td>Cloud software</td>\n",
       "      <td>USA</td>\n",
       "      <td>3.800000e+08</td>\n",
       "      <td>Google Cloud Platform</td>\n",
       "      <td>Google</td>\n",
       "    </tr>\n",
       "    <tr>\n",
       "      <th>1</th>\n",
       "      <td>ACQ98</td>\n",
       "      <td>November</td>\n",
       "      <td>11.0</td>\n",
       "      <td>2015</td>\n",
       "      <td>Fly Labs</td>\n",
       "      <td>Video editing</td>\n",
       "      <td>USA</td>\n",
       "      <td>7.584170e+08</td>\n",
       "      <td>Google Photos</td>\n",
       "      <td>Google</td>\n",
       "    </tr>\n",
       "    <tr>\n",
       "      <th>2</th>\n",
       "      <td>ACQ97</td>\n",
       "      <td>December</td>\n",
       "      <td>8.0</td>\n",
       "      <td>2015</td>\n",
       "      <td>Clearleap</td>\n",
       "      <td>Cloud-based video management</td>\n",
       "      <td>USA</td>\n",
       "      <td>7.584170e+08</td>\n",
       "      <td>NaN</td>\n",
       "      <td>IBM</td>\n",
       "    </tr>\n",
       "    <tr>\n",
       "      <th>3</th>\n",
       "      <td>ACQ96</td>\n",
       "      <td>December</td>\n",
       "      <td>18.0</td>\n",
       "      <td>2015</td>\n",
       "      <td>Metanautix</td>\n",
       "      <td>Big Data Analytics</td>\n",
       "      <td>USA</td>\n",
       "      <td>7.584170e+08</td>\n",
       "      <td>NaN</td>\n",
       "      <td>Microsoft</td>\n",
       "    </tr>\n",
       "    <tr>\n",
       "      <th>4</th>\n",
       "      <td>ACQ95</td>\n",
       "      <td>December</td>\n",
       "      <td>21.0</td>\n",
       "      <td>2015</td>\n",
       "      <td>Talko, Inc.</td>\n",
       "      <td>Mobile communications</td>\n",
       "      <td>USA</td>\n",
       "      <td>7.584170e+08</td>\n",
       "      <td>NaN</td>\n",
       "      <td>Microsoft</td>\n",
       "    </tr>\n",
       "    <tr>\n",
       "      <th>5</th>\n",
       "      <td>ACQ94</td>\n",
       "      <td>January</td>\n",
       "      <td>7.0</td>\n",
       "      <td>2016</td>\n",
       "      <td>Emotient</td>\n",
       "      <td>Emotion recognition</td>\n",
       "      <td>USA</td>\n",
       "      <td>7.584170e+08</td>\n",
       "      <td>Face ID, Animoji[100]</td>\n",
       "      <td>Apple</td>\n",
       "    </tr>\n",
       "    <tr>\n",
       "      <th>6</th>\n",
       "      <td>ACQ93</td>\n",
       "      <td>January</td>\n",
       "      <td>15.0</td>\n",
       "      <td>2016</td>\n",
       "      <td>Iris Analytics</td>\n",
       "      <td>Real time transaction fraud detection</td>\n",
       "      <td>GER</td>\n",
       "      <td>7.584170e+08</td>\n",
       "      <td>NaN</td>\n",
       "      <td>IBM</td>\n",
       "    </tr>\n",
       "    <tr>\n",
       "      <th>7</th>\n",
       "      <td>ACQ92</td>\n",
       "      <td>January</td>\n",
       "      <td>19.0</td>\n",
       "      <td>2016</td>\n",
       "      <td>Teacher Gaming LLC</td>\n",
       "      <td>Education software</td>\n",
       "      <td>FIN</td>\n",
       "      <td>7.584170e+08</td>\n",
       "      <td>NaN</td>\n",
       "      <td>Microsoft</td>\n",
       "    </tr>\n",
       "    <tr>\n",
       "      <th>8</th>\n",
       "      <td>ACQ915</td>\n",
       "      <td>July</td>\n",
       "      <td>30.0</td>\n",
       "      <td>1987</td>\n",
       "      <td>Forethought, Inc.</td>\n",
       "      <td>Computer software</td>\n",
       "      <td>USA</td>\n",
       "      <td>1.400000e+07</td>\n",
       "      <td>NaN</td>\n",
       "      <td>Microsoft</td>\n",
       "    </tr>\n",
       "    <tr>\n",
       "      <th>9</th>\n",
       "      <td>ACQ914</td>\n",
       "      <td>March</td>\n",
       "      <td>2.0</td>\n",
       "      <td>1988</td>\n",
       "      <td>Network Innovations</td>\n",
       "      <td>Software</td>\n",
       "      <td>USA</td>\n",
       "      <td>7.584170e+08</td>\n",
       "      <td>NaN</td>\n",
       "      <td>Apple</td>\n",
       "    </tr>\n",
       "  </tbody>\n",
       "</table>\n",
       "</div>"
      ],
      "text/plain": [
       "  AcquisitionID AcquisitionMonth  AcquisitionMonthDate  AcquisitionYear  \\\n",
       "0         ACQ99         November                  11.0             2015   \n",
       "1         ACQ98         November                  11.0             2015   \n",
       "2         ACQ97         December                   8.0             2015   \n",
       "3         ACQ96         December                  18.0             2015   \n",
       "4         ACQ95         December                  21.0             2015   \n",
       "5         ACQ94          January                   7.0             2016   \n",
       "6         ACQ93          January                  15.0             2016   \n",
       "7         ACQ92          January                  19.0             2016   \n",
       "8        ACQ915             July                  30.0             1987   \n",
       "9        ACQ914            March                   2.0             1988   \n",
       "\n",
       "               Company                               Business Country  \\\n",
       "0                bebop                         Cloud software     USA   \n",
       "1             Fly Labs                          Video editing     USA   \n",
       "2            Clearleap           Cloud-based video management     USA   \n",
       "3           Metanautix                     Big Data Analytics     USA   \n",
       "4          Talko, Inc.                  Mobile communications     USA   \n",
       "5             Emotient                    Emotion recognition     USA   \n",
       "6       Iris Analytics  Real time transaction fraud detection     GER   \n",
       "7   Teacher Gaming LLC                     Education software     FIN   \n",
       "8    Forethought, Inc.                      Computer software     USA   \n",
       "9  Network Innovations                               Software     USA   \n",
       "\n",
       "    Value (USD)       Derived products ParentCompany  \n",
       "0  3.800000e+08  Google Cloud Platform        Google  \n",
       "1  7.584170e+08          Google Photos        Google  \n",
       "2  7.584170e+08                    NaN           IBM  \n",
       "3  7.584170e+08                    NaN     Microsoft  \n",
       "4  7.584170e+08                    NaN     Microsoft  \n",
       "5  7.584170e+08  Face ID, Animoji[100]         Apple  \n",
       "6  7.584170e+08                    NaN           IBM  \n",
       "7  7.584170e+08                    NaN     Microsoft  \n",
       "8  1.400000e+07                    NaN     Microsoft  \n",
       "9  7.584170e+08                    NaN         Apple  "
      ]
     },
     "execution_count": 11,
     "metadata": {},
     "output_type": "execute_result"
    }
   ],
   "source": [
    "df.head(10)"
   ]
  },
  {
   "cell_type": "code",
   "execution_count": 12,
   "metadata": {},
   "outputs": [
    {
     "data": {
      "text/plain": [
       "AcquisitionID             0\n",
       "AcquisitionMonth          6\n",
       "AcquisitionMonthDate      0\n",
       "AcquisitionYear           0\n",
       "Company                   0\n",
       "Business                  0\n",
       "Country                  46\n",
       "Value (USD)               0\n",
       "Derived products        515\n",
       "ParentCompany             0\n",
       "dtype: int64"
      ]
     },
     "execution_count": 12,
     "metadata": {},
     "output_type": "execute_result"
    }
   ],
   "source": [
    "df.isnull().sum()"
   ]
  },
  {
   "cell_type": "code",
   "execution_count": 13,
   "metadata": {},
   "outputs": [],
   "source": [
    "df.fillna(method='ffill', inplace=True)"
   ]
  },
  {
   "cell_type": "code",
   "execution_count": 14,
   "metadata": {},
   "outputs": [
    {
     "data": {
      "text/html": [
       "<div>\n",
       "<style scoped>\n",
       "    .dataframe tbody tr th:only-of-type {\n",
       "        vertical-align: middle;\n",
       "    }\n",
       "\n",
       "    .dataframe tbody tr th {\n",
       "        vertical-align: top;\n",
       "    }\n",
       "\n",
       "    .dataframe thead th {\n",
       "        text-align: right;\n",
       "    }\n",
       "</style>\n",
       "<table border=\"1\" class=\"dataframe\">\n",
       "  <thead>\n",
       "    <tr style=\"text-align: right;\">\n",
       "      <th></th>\n",
       "      <th>AcquisitionID</th>\n",
       "      <th>AcquisitionMonth</th>\n",
       "      <th>AcquisitionMonthDate</th>\n",
       "      <th>AcquisitionYear</th>\n",
       "      <th>Company</th>\n",
       "      <th>Business</th>\n",
       "      <th>Country</th>\n",
       "      <th>Value (USD)</th>\n",
       "      <th>Derived products</th>\n",
       "      <th>ParentCompany</th>\n",
       "    </tr>\n",
       "  </thead>\n",
       "  <tbody>\n",
       "    <tr>\n",
       "      <th>0</th>\n",
       "      <td>ACQ99</td>\n",
       "      <td>November</td>\n",
       "      <td>11.0</td>\n",
       "      <td>2015</td>\n",
       "      <td>bebop</td>\n",
       "      <td>Cloud software</td>\n",
       "      <td>USA</td>\n",
       "      <td>3.800000e+08</td>\n",
       "      <td>Google Cloud Platform</td>\n",
       "      <td>Google</td>\n",
       "    </tr>\n",
       "    <tr>\n",
       "      <th>1</th>\n",
       "      <td>ACQ98</td>\n",
       "      <td>November</td>\n",
       "      <td>11.0</td>\n",
       "      <td>2015</td>\n",
       "      <td>Fly Labs</td>\n",
       "      <td>Video editing</td>\n",
       "      <td>USA</td>\n",
       "      <td>7.584170e+08</td>\n",
       "      <td>Google Photos</td>\n",
       "      <td>Google</td>\n",
       "    </tr>\n",
       "    <tr>\n",
       "      <th>2</th>\n",
       "      <td>ACQ97</td>\n",
       "      <td>December</td>\n",
       "      <td>8.0</td>\n",
       "      <td>2015</td>\n",
       "      <td>Clearleap</td>\n",
       "      <td>Cloud-based video management</td>\n",
       "      <td>USA</td>\n",
       "      <td>7.584170e+08</td>\n",
       "      <td>Google Photos</td>\n",
       "      <td>IBM</td>\n",
       "    </tr>\n",
       "    <tr>\n",
       "      <th>3</th>\n",
       "      <td>ACQ96</td>\n",
       "      <td>December</td>\n",
       "      <td>18.0</td>\n",
       "      <td>2015</td>\n",
       "      <td>Metanautix</td>\n",
       "      <td>Big Data Analytics</td>\n",
       "      <td>USA</td>\n",
       "      <td>7.584170e+08</td>\n",
       "      <td>Google Photos</td>\n",
       "      <td>Microsoft</td>\n",
       "    </tr>\n",
       "    <tr>\n",
       "      <th>4</th>\n",
       "      <td>ACQ95</td>\n",
       "      <td>December</td>\n",
       "      <td>21.0</td>\n",
       "      <td>2015</td>\n",
       "      <td>Talko, Inc.</td>\n",
       "      <td>Mobile communications</td>\n",
       "      <td>USA</td>\n",
       "      <td>7.584170e+08</td>\n",
       "      <td>Google Photos</td>\n",
       "      <td>Microsoft</td>\n",
       "    </tr>\n",
       "    <tr>\n",
       "      <th>5</th>\n",
       "      <td>ACQ94</td>\n",
       "      <td>January</td>\n",
       "      <td>7.0</td>\n",
       "      <td>2016</td>\n",
       "      <td>Emotient</td>\n",
       "      <td>Emotion recognition</td>\n",
       "      <td>USA</td>\n",
       "      <td>7.584170e+08</td>\n",
       "      <td>Face ID, Animoji[100]</td>\n",
       "      <td>Apple</td>\n",
       "    </tr>\n",
       "    <tr>\n",
       "      <th>6</th>\n",
       "      <td>ACQ93</td>\n",
       "      <td>January</td>\n",
       "      <td>15.0</td>\n",
       "      <td>2016</td>\n",
       "      <td>Iris Analytics</td>\n",
       "      <td>Real time transaction fraud detection</td>\n",
       "      <td>GER</td>\n",
       "      <td>7.584170e+08</td>\n",
       "      <td>Face ID, Animoji[100]</td>\n",
       "      <td>IBM</td>\n",
       "    </tr>\n",
       "    <tr>\n",
       "      <th>7</th>\n",
       "      <td>ACQ92</td>\n",
       "      <td>January</td>\n",
       "      <td>19.0</td>\n",
       "      <td>2016</td>\n",
       "      <td>Teacher Gaming LLC</td>\n",
       "      <td>Education software</td>\n",
       "      <td>FIN</td>\n",
       "      <td>7.584170e+08</td>\n",
       "      <td>Face ID, Animoji[100]</td>\n",
       "      <td>Microsoft</td>\n",
       "    </tr>\n",
       "    <tr>\n",
       "      <th>8</th>\n",
       "      <td>ACQ915</td>\n",
       "      <td>July</td>\n",
       "      <td>30.0</td>\n",
       "      <td>1987</td>\n",
       "      <td>Forethought, Inc.</td>\n",
       "      <td>Computer software</td>\n",
       "      <td>USA</td>\n",
       "      <td>1.400000e+07</td>\n",
       "      <td>Face ID, Animoji[100]</td>\n",
       "      <td>Microsoft</td>\n",
       "    </tr>\n",
       "    <tr>\n",
       "      <th>9</th>\n",
       "      <td>ACQ914</td>\n",
       "      <td>March</td>\n",
       "      <td>2.0</td>\n",
       "      <td>1988</td>\n",
       "      <td>Network Innovations</td>\n",
       "      <td>Software</td>\n",
       "      <td>USA</td>\n",
       "      <td>7.584170e+08</td>\n",
       "      <td>Face ID, Animoji[100]</td>\n",
       "      <td>Apple</td>\n",
       "    </tr>\n",
       "  </tbody>\n",
       "</table>\n",
       "</div>"
      ],
      "text/plain": [
       "  AcquisitionID AcquisitionMonth  AcquisitionMonthDate  AcquisitionYear  \\\n",
       "0         ACQ99         November                  11.0             2015   \n",
       "1         ACQ98         November                  11.0             2015   \n",
       "2         ACQ97         December                   8.0             2015   \n",
       "3         ACQ96         December                  18.0             2015   \n",
       "4         ACQ95         December                  21.0             2015   \n",
       "5         ACQ94          January                   7.0             2016   \n",
       "6         ACQ93          January                  15.0             2016   \n",
       "7         ACQ92          January                  19.0             2016   \n",
       "8        ACQ915             July                  30.0             1987   \n",
       "9        ACQ914            March                   2.0             1988   \n",
       "\n",
       "               Company                               Business Country  \\\n",
       "0                bebop                         Cloud software     USA   \n",
       "1             Fly Labs                          Video editing     USA   \n",
       "2            Clearleap           Cloud-based video management     USA   \n",
       "3           Metanautix                     Big Data Analytics     USA   \n",
       "4          Talko, Inc.                  Mobile communications     USA   \n",
       "5             Emotient                    Emotion recognition     USA   \n",
       "6       Iris Analytics  Real time transaction fraud detection     GER   \n",
       "7   Teacher Gaming LLC                     Education software     FIN   \n",
       "8    Forethought, Inc.                      Computer software     USA   \n",
       "9  Network Innovations                               Software     USA   \n",
       "\n",
       "    Value (USD)       Derived products ParentCompany  \n",
       "0  3.800000e+08  Google Cloud Platform        Google  \n",
       "1  7.584170e+08          Google Photos        Google  \n",
       "2  7.584170e+08          Google Photos           IBM  \n",
       "3  7.584170e+08          Google Photos     Microsoft  \n",
       "4  7.584170e+08          Google Photos     Microsoft  \n",
       "5  7.584170e+08  Face ID, Animoji[100]         Apple  \n",
       "6  7.584170e+08  Face ID, Animoji[100]           IBM  \n",
       "7  7.584170e+08  Face ID, Animoji[100]     Microsoft  \n",
       "8  1.400000e+07  Face ID, Animoji[100]     Microsoft  \n",
       "9  7.584170e+08  Face ID, Animoji[100]         Apple  "
      ]
     },
     "execution_count": 14,
     "metadata": {},
     "output_type": "execute_result"
    }
   ],
   "source": [
    "df.head(10)"
   ]
  },
  {
   "cell_type": "code",
   "execution_count": 15,
   "metadata": {},
   "outputs": [
    {
     "data": {
      "text/plain": [
       "AcquisitionID           0\n",
       "AcquisitionMonth        0\n",
       "AcquisitionMonthDate    0\n",
       "AcquisitionYear         0\n",
       "Company                 0\n",
       "Business                0\n",
       "Country                 0\n",
       "Value (USD)             0\n",
       "Derived products        0\n",
       "ParentCompany           0\n",
       "dtype: int64"
      ]
     },
     "execution_count": 15,
     "metadata": {},
     "output_type": "execute_result"
    }
   ],
   "source": [
    "df.isnull().sum()"
   ]
  },
  {
   "cell_type": "code",
   "execution_count": 16,
   "metadata": {},
   "outputs": [
    {
     "data": {
      "text/plain": [
       "Index(['AcquisitionID', 'AcquisitionMonth', 'AcquisitionMonthDate',\n",
       "       'AcquisitionYear', 'Company', 'Business', 'Country', 'Value (USD)',\n",
       "       'Derived products', 'ParentCompany'],\n",
       "      dtype='object')"
      ]
     },
     "execution_count": 16,
     "metadata": {},
     "output_type": "execute_result"
    }
   ],
   "source": [
    "df.columns"
   ]
  },
  {
   "cell_type": "code",
   "execution_count": 17,
   "metadata": {},
   "outputs": [],
   "source": [
    "cols=['AcquisitionID', 'AcquisitionMonth', 'Company', 'Business', 'Country', 'Derived products', 'ParentCompany']"
   ]
  },
  {
   "cell_type": "code",
   "execution_count": 18,
   "metadata": {},
   "outputs": [],
   "source": [
    "from sklearn import preprocessing\n",
    "le=preprocessing.LabelEncoder()"
   ]
  },
  {
   "cell_type": "code",
   "execution_count": 19,
   "metadata": {},
   "outputs": [],
   "source": [
    "#Converting categorical data to numerical data using a for loop\n",
    "for i in cols:\n",
    "    le.fit(df[i].unique())\n",
    "    df[i]=le.transform(df[i])"
   ]
  },
  {
   "cell_type": "code",
   "execution_count": 20,
   "metadata": {},
   "outputs": [
    {
     "data": {
      "text/html": [
       "<div>\n",
       "<style scoped>\n",
       "    .dataframe tbody tr th:only-of-type {\n",
       "        vertical-align: middle;\n",
       "    }\n",
       "\n",
       "    .dataframe tbody tr th {\n",
       "        vertical-align: top;\n",
       "    }\n",
       "\n",
       "    .dataframe thead th {\n",
       "        text-align: right;\n",
       "    }\n",
       "</style>\n",
       "<table border=\"1\" class=\"dataframe\">\n",
       "  <thead>\n",
       "    <tr style=\"text-align: right;\">\n",
       "      <th></th>\n",
       "      <th>AcquisitionID</th>\n",
       "      <th>AcquisitionMonth</th>\n",
       "      <th>AcquisitionMonthDate</th>\n",
       "      <th>AcquisitionYear</th>\n",
       "      <th>Company</th>\n",
       "      <th>Business</th>\n",
       "      <th>Country</th>\n",
       "      <th>Value (USD)</th>\n",
       "      <th>Derived products</th>\n",
       "      <th>ParentCompany</th>\n",
       "    </tr>\n",
       "  </thead>\n",
       "  <tbody>\n",
       "    <tr>\n",
       "      <th>0</th>\n",
       "      <td>914</td>\n",
       "      <td>10</td>\n",
       "      <td>11.0</td>\n",
       "      <td>2015</td>\n",
       "      <td>889</td>\n",
       "      <td>114</td>\n",
       "      <td>39</td>\n",
       "      <td>3.800000e+08</td>\n",
       "      <td>66</td>\n",
       "      <td>2</td>\n",
       "    </tr>\n",
       "    <tr>\n",
       "      <th>1</th>\n",
       "      <td>913</td>\n",
       "      <td>10</td>\n",
       "      <td>11.0</td>\n",
       "      <td>2015</td>\n",
       "      <td>262</td>\n",
       "      <td>654</td>\n",
       "      <td>39</td>\n",
       "      <td>7.584170e+08</td>\n",
       "      <td>90</td>\n",
       "      <td>2</td>\n",
       "    </tr>\n",
       "    <tr>\n",
       "      <th>2</th>\n",
       "      <td>912</td>\n",
       "      <td>2</td>\n",
       "      <td>8.0</td>\n",
       "      <td>2015</td>\n",
       "      <td>141</td>\n",
       "      <td>116</td>\n",
       "      <td>39</td>\n",
       "      <td>7.584170e+08</td>\n",
       "      <td>90</td>\n",
       "      <td>3</td>\n",
       "    </tr>\n",
       "    <tr>\n",
       "      <th>3</th>\n",
       "      <td>911</td>\n",
       "      <td>2</td>\n",
       "      <td>18.0</td>\n",
       "      <td>2015</td>\n",
       "      <td>454</td>\n",
       "      <td>68</td>\n",
       "      <td>39</td>\n",
       "      <td>7.584170e+08</td>\n",
       "      <td>90</td>\n",
       "      <td>4</td>\n",
       "    </tr>\n",
       "    <tr>\n",
       "      <th>4</th>\n",
       "      <td>910</td>\n",
       "      <td>2</td>\n",
       "      <td>21.0</td>\n",
       "      <td>2015</td>\n",
       "      <td>745</td>\n",
       "      <td>391</td>\n",
       "      <td>39</td>\n",
       "      <td>7.584170e+08</td>\n",
       "      <td>90</td>\n",
       "      <td>4</td>\n",
       "    </tr>\n",
       "    <tr>\n",
       "      <th>5</th>\n",
       "      <td>909</td>\n",
       "      <td>5</td>\n",
       "      <td>7.0</td>\n",
       "      <td>2016</td>\n",
       "      <td>222</td>\n",
       "      <td>224</td>\n",
       "      <td>39</td>\n",
       "      <td>7.584170e+08</td>\n",
       "      <td>40</td>\n",
       "      <td>0</td>\n",
       "    </tr>\n",
       "    <tr>\n",
       "      <th>6</th>\n",
       "      <td>908</td>\n",
       "      <td>5</td>\n",
       "      <td>15.0</td>\n",
       "      <td>2016</td>\n",
       "      <td>360</td>\n",
       "      <td>507</td>\n",
       "      <td>13</td>\n",
       "      <td>7.584170e+08</td>\n",
       "      <td>40</td>\n",
       "      <td>3</td>\n",
       "    </tr>\n",
       "    <tr>\n",
       "      <th>7</th>\n",
       "      <td>907</td>\n",
       "      <td>5</td>\n",
       "      <td>19.0</td>\n",
       "      <td>2016</td>\n",
       "      <td>749</td>\n",
       "      <td>216</td>\n",
       "      <td>11</td>\n",
       "      <td>7.584170e+08</td>\n",
       "      <td>40</td>\n",
       "      <td>4</td>\n",
       "    </tr>\n",
       "    <tr>\n",
       "      <th>8</th>\n",
       "      <td>906</td>\n",
       "      <td>6</td>\n",
       "      <td>30.0</td>\n",
       "      <td>1987</td>\n",
       "      <td>264</td>\n",
       "      <td>136</td>\n",
       "      <td>39</td>\n",
       "      <td>1.400000e+07</td>\n",
       "      <td>40</td>\n",
       "      <td>4</td>\n",
       "    </tr>\n",
       "    <tr>\n",
       "      <th>9</th>\n",
       "      <td>905</td>\n",
       "      <td>8</td>\n",
       "      <td>2.0</td>\n",
       "      <td>1988</td>\n",
       "      <td>498</td>\n",
       "      <td>591</td>\n",
       "      <td>39</td>\n",
       "      <td>7.584170e+08</td>\n",
       "      <td>40</td>\n",
       "      <td>0</td>\n",
       "    </tr>\n",
       "  </tbody>\n",
       "</table>\n",
       "</div>"
      ],
      "text/plain": [
       "   AcquisitionID  AcquisitionMonth  AcquisitionMonthDate  AcquisitionYear  \\\n",
       "0            914                10                  11.0             2015   \n",
       "1            913                10                  11.0             2015   \n",
       "2            912                 2                   8.0             2015   \n",
       "3            911                 2                  18.0             2015   \n",
       "4            910                 2                  21.0             2015   \n",
       "5            909                 5                   7.0             2016   \n",
       "6            908                 5                  15.0             2016   \n",
       "7            907                 5                  19.0             2016   \n",
       "8            906                 6                  30.0             1987   \n",
       "9            905                 8                   2.0             1988   \n",
       "\n",
       "   Company  Business  Country   Value (USD)  Derived products  ParentCompany  \n",
       "0      889       114       39  3.800000e+08                66              2  \n",
       "1      262       654       39  7.584170e+08                90              2  \n",
       "2      141       116       39  7.584170e+08                90              3  \n",
       "3      454        68       39  7.584170e+08                90              4  \n",
       "4      745       391       39  7.584170e+08                90              4  \n",
       "5      222       224       39  7.584170e+08                40              0  \n",
       "6      360       507       13  7.584170e+08                40              3  \n",
       "7      749       216       11  7.584170e+08                40              4  \n",
       "8      264       136       39  1.400000e+07                40              4  \n",
       "9      498       591       39  7.584170e+08                40              0  "
      ]
     },
     "execution_count": 20,
     "metadata": {},
     "output_type": "execute_result"
    }
   ],
   "source": [
    "df.head(10)"
   ]
  },
  {
   "cell_type": "code",
   "execution_count": 21,
   "metadata": {},
   "outputs": [],
   "source": [
    "df=(df-df.mean())/df.std() #Standardization of data"
   ]
  },
  {
   "cell_type": "code",
   "execution_count": 22,
   "metadata": {},
   "outputs": [
    {
     "data": {
      "text/plain": [
       "AcquisitionID          -3.854268e-17\n",
       "AcquisitionMonth        6.972225e-17\n",
       "AcquisitionMonthDate    1.719876e-15\n",
       "AcquisitionYear         1.524836e-14\n",
       "Company                -4.242119e-18\n",
       "Business               -1.386567e-16\n",
       "Country                -6.181373e-17\n",
       "Value (USD)             8.358186e-16\n",
       "Derived products        3.677917e-16\n",
       "ParentCompany          -4.382714e-16\n",
       "dtype: float64"
      ]
     },
     "execution_count": 22,
     "metadata": {},
     "output_type": "execute_result"
    }
   ],
   "source": [
    "df.mean()"
   ]
  },
  {
   "cell_type": "code",
   "execution_count": 23,
   "metadata": {},
   "outputs": [
    {
     "data": {
      "text/plain": [
       "AcquisitionID           1.0\n",
       "AcquisitionMonth        1.0\n",
       "AcquisitionMonthDate    1.0\n",
       "AcquisitionYear         1.0\n",
       "Company                 1.0\n",
       "Business                1.0\n",
       "Country                 1.0\n",
       "Value (USD)             1.0\n",
       "Derived products        1.0\n",
       "ParentCompany           1.0\n",
       "dtype: float64"
      ]
     },
     "execution_count": 23,
     "metadata": {},
     "output_type": "execute_result"
    }
   ],
   "source": [
    "df.std()"
   ]
  },
  {
   "cell_type": "code",
   "execution_count": 24,
   "metadata": {},
   "outputs": [],
   "source": [
    "df=(df-df.min())/(df.max()-df.min()) #Normalization of data"
   ]
  },
  {
   "cell_type": "code",
   "execution_count": 25,
   "metadata": {
    "collapsed": true
   },
   "outputs": [
    {
     "data": {
      "text/html": [
       "<div>\n",
       "<style scoped>\n",
       "    .dataframe tbody tr th:only-of-type {\n",
       "        vertical-align: middle;\n",
       "    }\n",
       "\n",
       "    .dataframe tbody tr th {\n",
       "        vertical-align: top;\n",
       "    }\n",
       "\n",
       "    .dataframe thead th {\n",
       "        text-align: right;\n",
       "    }\n",
       "</style>\n",
       "<table border=\"1\" class=\"dataframe\">\n",
       "  <thead>\n",
       "    <tr style=\"text-align: right;\">\n",
       "      <th></th>\n",
       "      <th>AcquisitionID</th>\n",
       "      <th>AcquisitionMonth</th>\n",
       "      <th>AcquisitionMonthDate</th>\n",
       "      <th>AcquisitionYear</th>\n",
       "      <th>Company</th>\n",
       "      <th>Business</th>\n",
       "      <th>Country</th>\n",
       "      <th>Value (USD)</th>\n",
       "      <th>Derived products</th>\n",
       "      <th>ParentCompany</th>\n",
       "    </tr>\n",
       "  </thead>\n",
       "  <tbody>\n",
       "    <tr>\n",
       "      <th>0</th>\n",
       "      <td>0.998907</td>\n",
       "      <td>0.833333</td>\n",
       "      <td>0.333333</td>\n",
       "      <td>0.903226</td>\n",
       "      <td>0.971585</td>\n",
       "      <td>0.160112</td>\n",
       "      <td>1.0</td>\n",
       "      <td>0.014496</td>\n",
       "      <td>0.292035</td>\n",
       "      <td>0.333333</td>\n",
       "    </tr>\n",
       "    <tr>\n",
       "      <th>1</th>\n",
       "      <td>0.997814</td>\n",
       "      <td>0.833333</td>\n",
       "      <td>0.333333</td>\n",
       "      <td>0.903226</td>\n",
       "      <td>0.286339</td>\n",
       "      <td>0.918539</td>\n",
       "      <td>1.0</td>\n",
       "      <td>0.028940</td>\n",
       "      <td>0.398230</td>\n",
       "      <td>0.333333</td>\n",
       "    </tr>\n",
       "    <tr>\n",
       "      <th>2</th>\n",
       "      <td>0.996721</td>\n",
       "      <td>0.166667</td>\n",
       "      <td>0.233333</td>\n",
       "      <td>0.903226</td>\n",
       "      <td>0.154098</td>\n",
       "      <td>0.162921</td>\n",
       "      <td>1.0</td>\n",
       "      <td>0.028940</td>\n",
       "      <td>0.398230</td>\n",
       "      <td>0.500000</td>\n",
       "    </tr>\n",
       "    <tr>\n",
       "      <th>3</th>\n",
       "      <td>0.995628</td>\n",
       "      <td>0.166667</td>\n",
       "      <td>0.566667</td>\n",
       "      <td>0.903226</td>\n",
       "      <td>0.496175</td>\n",
       "      <td>0.095506</td>\n",
       "      <td>1.0</td>\n",
       "      <td>0.028940</td>\n",
       "      <td>0.398230</td>\n",
       "      <td>0.666667</td>\n",
       "    </tr>\n",
       "    <tr>\n",
       "      <th>4</th>\n",
       "      <td>0.994536</td>\n",
       "      <td>0.166667</td>\n",
       "      <td>0.666667</td>\n",
       "      <td>0.903226</td>\n",
       "      <td>0.814208</td>\n",
       "      <td>0.549157</td>\n",
       "      <td>1.0</td>\n",
       "      <td>0.028940</td>\n",
       "      <td>0.398230</td>\n",
       "      <td>0.666667</td>\n",
       "    </tr>\n",
       "  </tbody>\n",
       "</table>\n",
       "</div>"
      ],
      "text/plain": [
       "   AcquisitionID  AcquisitionMonth  AcquisitionMonthDate  AcquisitionYear  \\\n",
       "0       0.998907          0.833333              0.333333         0.903226   \n",
       "1       0.997814          0.833333              0.333333         0.903226   \n",
       "2       0.996721          0.166667              0.233333         0.903226   \n",
       "3       0.995628          0.166667              0.566667         0.903226   \n",
       "4       0.994536          0.166667              0.666667         0.903226   \n",
       "\n",
       "    Company  Business  Country  Value (USD)  Derived products  ParentCompany  \n",
       "0  0.971585  0.160112      1.0     0.014496          0.292035       0.333333  \n",
       "1  0.286339  0.918539      1.0     0.028940          0.398230       0.333333  \n",
       "2  0.154098  0.162921      1.0     0.028940          0.398230       0.500000  \n",
       "3  0.496175  0.095506      1.0     0.028940          0.398230       0.666667  \n",
       "4  0.814208  0.549157      1.0     0.028940          0.398230       0.666667  "
      ]
     },
     "execution_count": 25,
     "metadata": {},
     "output_type": "execute_result"
    }
   ],
   "source": [
    "df.head(5)"
   ]
  },
  {
   "cell_type": "code",
   "execution_count": 28,
   "metadata": {},
   "outputs": [
    {
     "data": {
      "text/plain": [
       "<matplotlib.axes._subplots.AxesSubplot at 0x201bc9992b0>"
      ]
     },
     "execution_count": 28,
     "metadata": {},
     "output_type": "execute_result"
    },
    {
     "data": {
      "image/png": "[encoded data removed]",
      "text/plain": [
       "<Figure size 432x288 with 1 Axes>"
      ]
     },
     "metadata": {
      "needs_background": "light"
     },
     "output_type": "display_data"
    }
   ],
   "source": [
    "df['AcquisitionID'].plot.hist()"
   ]
  },
  {
   "cell_type": "code",
   "execution_count": 29,
   "metadata": {},
   "outputs": [
    {
     "data": {
      "text/plain": [
       "<matplotlib.axes._subplots.AxesSubplot at 0x201bc9fd940>"
      ]
     },
     "execution_count": 29,
     "metadata": {},
     "output_type": "execute_result"
    },
    {
     "data": {
      "image/png": "[encoded data removed]",
      "text/plain": [
       "<Figure size 432x288 with 1 Axes>"
      ]
     },
     "metadata": {
      "needs_background": "light"
     },
     "output_type": "display_data"
    }
   ],
   "source": [
    "df['AcquisitionMonth'].plot.hist()"
   ]
  },
  {
   "cell_type": "code",
   "execution_count": 30,
   "metadata": {},
   "outputs": [
    {
     "data": {
      "text/plain": [
       "<matplotlib.axes._subplots.AxesSubplot at 0x201bca9c748>"
      ]
     },
     "execution_count": 30,
     "metadata": {},
     "output_type": "execute_result"
    },
    {
     "data": {
      "image/png": "[encoded data removed]",
      "text/plain": [
       "<Figure size 432x288 with 1 Axes>"
      ]
     },
     "metadata": {
      "needs_background": "light"
     },
     "output_type": "display_data"
    }
   ],
   "source": [
    "df['AcquisitionMonthDate'].plot.hist()"
   ]
  },
  {
   "cell_type": "code",
   "execution_count": 32,
   "metadata": {},
   "outputs": [
    {
     "data": {
      "text/plain": [
       "<matplotlib.axes._subplots.AxesSubplot at 0x201bcaf7e80>"
      ]
     },
     "execution_count": 32,
     "metadata": {},
     "output_type": "execute_result"
    },
    {
     "data": {
      "image/png": "[encoded data removed]",
      "text/plain": [
       "<Figure size 432x288 with 1 Axes>"
      ]
     },
     "metadata": {
      "needs_background": "light"
     },
     "output_type": "display_data"
    }
   ],
   "source": [
    "df['AcquisitionYear'].plot.hist()"
   ]
  },
  {
   "cell_type": "code",
   "execution_count": 34,
   "metadata": {},
   "outputs": [
    {
     "data": {
      "text/plain": [
       "<matplotlib.axes._subplots.AxesSubplot at 0x201bcb79128>"
      ]
     },
     "execution_count": 34,
     "metadata": {},
     "output_type": "execute_result"
    },
    {
     "data": {
      "image/png": "[encoded data removed]",
      "text/plain": [
       "<Figure size 432x288 with 1 Axes>"
      ]
     },
     "metadata": {
      "needs_background": "light"
     },
     "output_type": "display_data"
    }
   ],
   "source": [
    "df['Company'].plot.hist()"
   ]
  },
  {
   "cell_type": "code",
   "execution_count": 35,
   "metadata": {},
   "outputs": [
    {
     "data": {
      "text/plain": [
       "<matplotlib.axes._subplots.AxesSubplot at 0x201bcd4fb70>"
      ]
     },
     "execution_count": 35,
     "metadata": {},
     "output_type": "execute_result"
    },
    {
     "data": {
      "image/png": "[encoded data removed]",
      "text/plain": [
       "<Figure size 432x288 with 1 Axes>"
      ]
     },
     "metadata": {
      "needs_background": "light"
     },
     "output_type": "display_data"
    }
   ],
   "source": [
    "df['Business'].plot.hist()"
   ]
  },
  {
   "cell_type": "code",
   "execution_count": 37,
   "metadata": {},
   "outputs": [
    {
     "data": {
      "text/plain": [
       "<matplotlib.axes._subplots.AxesSubplot at 0x201bcdb3be0>"
      ]
     },
     "execution_count": 37,
     "metadata": {},
     "output_type": "execute_result"
    },
    {
     "data": {
      "image/png": "[encoded data removed]",
      "text/plain": [
       "<Figure size 432x288 with 1 Axes>"
      ]
     },
     "metadata": {
      "needs_background": "light"
     },
     "output_type": "display_data"
    }
   ],
   "source": [
    "df['Country'].plot.hist()"
   ]
  },
  {
   "cell_type": "code",
   "execution_count": 38,
   "metadata": {},
   "outputs": [
    {
     "data": {
      "text/plain": [
       "<matplotlib.axes._subplots.AxesSubplot at 0x201bce45278>"
      ]
     },
     "execution_count": 38,
     "metadata": {},
     "output_type": "execute_result"
    },
    {
     "data": {
      "image/png": "[encoded data removed]",
      "text/plain": [
       "<Figure size 432x288 with 1 Axes>"
      ]
     },
     "metadata": {
      "needs_background": "light"
     },
     "output_type": "display_data"
    }
   ],
   "source": [
    "df['Value (USD)'].plot.hist()"
   ]
  },
  {
   "cell_type": "code",
   "execution_count": 39,
   "metadata": {},
   "outputs": [
    {
     "data": {
      "text/plain": [
       "<matplotlib.axes._subplots.AxesSubplot at 0x201bce893c8>"
      ]
     },
     "execution_count": 39,
     "metadata": {},
     "output_type": "execute_result"
    },
    {
     "data": {
      "image/png": "[encoded data removed]",
      "text/plain": [
       "<Figure size 432x288 with 1 Axes>"
      ]
     },
     "metadata": {
      "needs_background": "light"
     },
     "output_type": "display_data"
    }
   ],
   "source": [
    "df['Derived products'].plot.hist()"
   ]
  },
  {
   "cell_type": "code",
   "execution_count": 40,
   "metadata": {},
   "outputs": [
    {
     "data": {
      "text/plain": [
       "<matplotlib.axes._subplots.AxesSubplot at 0x201bcf02f60>"
      ]
     },
     "execution_count": 40,
     "metadata": {},
     "output_type": "execute_result"
    },
    {
     "data": {
      "image/png": "[encoded data removed]",
      "text/plain": [
       "<Figure size 432x288 with 1 Axes>"
      ]
     },
     "metadata": {
      "needs_background": "light"
     },
     "output_type": "display_data"
    }
   ],
   "source": [
    "df['ParentCompany'].plot.hist()"
   ]
  },
  {
   "cell_type": "code",
   "execution_count": 42,
   "metadata": {},
   "outputs": [
    {
     "data": {
      "text/plain": [
       "<matplotlib.axes._subplots.AxesSubplot at 0x201c2846be0>"
      ]
     },
     "execution_count": 42,
     "metadata": {},
     "output_type": "execute_result"
    },
    {
     "data": {
      "image/png": "[encoded data removed]",
      "text/plain": [
       "<Figure size 432x288 with 1 Axes>"
      ]
     },
     "metadata": {
      "needs_background": "light"
     },
     "output_type": "display_data"
    }
   ],
   "source": [
    "df['AcquisitionID'].plot.bar()"
   ]
  },
  {
   "cell_type": "code",
   "execution_count": 43,
   "metadata": {},
   "outputs": [
    {
     "data": {
      "text/plain": [
       "<matplotlib.axes._subplots.AxesSubplot at 0x201c57c8668>"
      ]
     },
     "execution_count": 43,
     "metadata": {},
     "output_type": "execute_result"
    },
    {
     "data": {
      "image/png": "[encoded data removed]",
      "text/plain": [
       "<Figure size 432x288 with 1 Axes>"
      ]
     },
     "metadata": {
      "needs_background": "light"
     },
     "output_type": "display_data"
    }
   ],
   "source": [
    "df['Value (USD)'].plot.bar()"
   ]
  },
  {
   "cell_type": "code",
   "execution_count": 47,
   "metadata": {},
   "outputs": [
    {
     "data": {
      "text/plain": [
       "<matplotlib.axes._subplots.AxesSubplot at 0x201c794c048>"
      ]
     },
     "execution_count": 47,
     "metadata": {},
     "output_type": "execute_result"
    },
    {
     "data": {
      "image/png": "[encoded data removed]",
      "text/plain": [
       "<Figure size 432x288 with 1 Axes>"
      ]
     },
     "metadata": {},
     "output_type": "display_data"
    }
   ],
   "source": [
    "df['Value (USD)'].plot.pie()"
   ]
  },
  {
   "cell_type": "code",
   "execution_count": 50,
   "metadata": {},
   "outputs": [],
   "source": [
    "from matplotlib import pyplot\n",
    "from statsmodels.graphics.gofplots import qqplot"
   ]
  },
  {
   "cell_type": "code",
   "execution_count": 52,
   "metadata": {},
   "outputs": [
    {
     "data": {
      "image/png": "[encoded data removed]",
      "text/plain": [
       "<Figure size 432x288 with 1 Axes>"
      ]
     },
     "execution_count": 52,
     "metadata": {},
     "output_type": "execute_result"
    },
    {
     "data": {
      "image/png": "[encoded data removed]",
      "text/plain": [
       "<Figure size 432x288 with 1 Axes>"
      ]
     },
     "metadata": {
      "needs_background": "light"
     },
     "output_type": "display_data"
    }
   ],
   "source": [
    "qqplot(df['Value (USD)'],line='s')"
   ]
  },
  {
   "cell_type": "code",
   "execution_count": 54,
   "metadata": {},
   "outputs": [
    {
     "data": {
      "image/png": "[encoded data removed]",
      "text/plain": [
       "<Figure size 432x288 with 1 Axes>"
      ]
     },
     "execution_count": 54,
     "metadata": {},
     "output_type": "execute_result"
    },
    {
     "data": {
      "image/png": "[encoded data removed]",
      "text/plain": [
       "<Figure size 432x288 with 1 Axes>"
      ]
     },
     "metadata": {
      "needs_background": "light"
     },
     "output_type": "display_data"
    }
   ],
   "source": [
    "qqplot(df['AcquisitionID'],line='s')"
   ]
  },
  {
   "cell_type": "code",
   "execution_count": 57,
   "metadata": {},
   "outputs": [
    {
     "data": {
      "image/png": "[encoded data removed]",
      "text/plain": [
       "<Figure size 432x288 with 1 Axes>"
      ]
     },
     "execution_count": 57,
     "metadata": {},
     "output_type": "execute_result"
    },
    {
     "data": {
      "image/png": "[encoded data removed]",
      "text/plain": [
       "<Figure size 432x288 with 1 Axes>"
      ]
     },
     "metadata": {
      "needs_background": "light"
     },
     "output_type": "display_data"
    }
   ],
   "source": [
    "qqplot(df['AcquisitionMonth'],line='s')"
   ]
  },
  {
   "cell_type": "code",
   "execution_count": 56,
   "metadata": {},
   "outputs": [
    {
     "data": {
      "image/png": "[encoded data removed]",
      "text/plain": [
       "<Figure size 432x288 with 1 Axes>"
      ]
     },
     "execution_count": 56,
     "metadata": {},
     "output_type": "execute_result"
    },
    {
     "data": {
      "image/png": "[encoded data removed]",
      "text/plain": [
       "<Figure size 432x288 with 1 Axes>"
      ]
     },
     "metadata": {
      "needs_background": "light"
     },
     "output_type": "display_data"
    }
   ],
   "source": [
    "qqplot(df['AcquisitionMonthDate'],line='s')"
   ]
  },
  {
   "cell_type": "code",
   "execution_count": 58,
   "metadata": {},
   "outputs": [
    {
     "data": {
      "image/png": "[encoded data removed]",
      "text/plain": [
       "<Figure size 432x288 with 1 Axes>"
      ]
     },
     "execution_count": 58,
     "metadata": {},
     "output_type": "execute_result"
    },
    {
     "data": {
      "image/png": "[encoded data removed]",
      "text/plain": [
       "<Figure size 432x288 with 1 Axes>"
      ]
     },
     "metadata": {
      "needs_background": "light"
     },
     "output_type": "display_data"
    }
   ],
   "source": [
    "qqplot(df['AcquisitionYear'],line='s')"
   ]
  },
  {
   "cell_type": "code",
   "execution_count": 59,
   "metadata": {},
   "outputs": [
    {
     "data": {
      "image/png": "[encoded data removed]",
      "text/plain": [
       "<Figure size 432x288 with 1 Axes>"
      ]
     },
     "execution_count": 59,
     "metadata": {},
     "output_type": "execute_result"
    },
    {
     "data": {
      "image/png": "[encoded data removed]",
      "text/plain": [
       "<Figure size 432x288 with 1 Axes>"
      ]
     },
     "metadata": {
      "needs_background": "light"
     },
     "output_type": "display_data"
    }
   ],
   "source": [
    "qqplot(df['Business'],line='s')"
   ]
  },
  {
   "cell_type": "code",
   "execution_count": 61,
   "metadata": {},
   "outputs": [
    {
     "data": {
      "image/png": "[encoded data removed]",
      "text/plain": [
       "<Figure size 432x288 with 1 Axes>"
      ]
     },
     "execution_count": 61,
     "metadata": {},
     "output_type": "execute_result"
    },
    {
     "data": {
      "image/png": "[encoded data removed]",
      "text/plain": [
       "<Figure size 432x288 with 1 Axes>"
      ]
     },
     "metadata": {
      "needs_background": "light"
     },
     "output_type": "display_data"
    }
   ],
   "source": [
    "qqplot(df['Company'],line='s')"
   ]
  },
  {
   "cell_type": "code",
   "execution_count": 62,
   "metadata": {},
   "outputs": [
    {
     "data": {
      "image/png": "[encoded data removed]",
      "text/plain": [
       "<Figure size 432x288 with 1 Axes>"
      ]
     },
     "execution_count": 62,
     "metadata": {},
     "output_type": "execute_result"
    },
    {
     "data": {
      "image/png": "[encoded data removed]",
      "text/plain": [
       "<Figure size 432x288 with 1 Axes>"
      ]
     },
     "metadata": {
      "needs_background": "light"
     },
     "output_type": "display_data"
    }
   ],
   "source": [
    "qqplot(df['Country'],line='s')"
   ]
  },
  {
   "cell_type": "code",
   "execution_count": 66,
   "metadata": {},
   "outputs": [
    {
     "data": {
      "image/png": "[encoded data removed]",
      "text/plain": [
       "<Figure size 432x288 with 1 Axes>"
      ]
     },
     "execution_count": 66,
     "metadata": {},
     "output_type": "execute_result"
    },
    {
     "data": {
      "image/png": "[encoded data removed]",
      "text/plain": [
       "<Figure size 432x288 with 1 Axes>"
      ]
     },
     "metadata": {
      "needs_background": "light"
     },
     "output_type": "display_data"
    }
   ],
   "source": [
    "qqplot(df['Derived products'],line='s')"
   ]
  },
  {
   "cell_type": "code",
   "execution_count": 67,
   "metadata": {},
   "outputs": [
    {
     "data": {
      "image/png": "[encoded data removed]",
      "text/plain": [
       "<Figure size 432x288 with 1 Axes>"
      ]
     },
     "execution_count": 67,
     "metadata": {},
     "output_type": "execute_result"
    },
    {
     "data": {
      "image/png": "[encoded data removed]",
      "text/plain": [
       "<Figure size 432x288 with 1 Axes>"
      ]
     },
     "metadata": {
      "needs_background": "light"
     },
     "output_type": "display_data"
    }
   ],
   "source": [
    "qqplot(df['ParentCompany'],line='s')"
   ]
  },
  {
   "cell_type": "code",
   "execution_count": null,
   "metadata": {},
   "outputs": [],
   "source": []
  }
 ],
 "metadata": {
  "kernelspec": {
   "display_name": "Python 3",
   "language": "python",
   "name": "python3"
  },
  "language_info": {
   "codemirror_mode": {
    "name": "ipython",
    "version": 3
   },
   "file_extension": ".py",
   "mimetype": "text/x-python",
   "name": "python",
   "nbconvert_exporter": "python",
   "pygments_lexer": "ipython3",
   "version": "3.7.1"
  }
 },
 "nbformat": 4,
 "nbformat_minor": 2
}
